{
 "cells": [
  {
   "cell_type": "code",
   "execution_count": null,
   "metadata": {},
   "outputs": [],
   "source": [
    "from sklearn.feature_extraction.text import CountVectorizer\n",
    "word_dict = set()\n",
    "for s in train_data['sentence']:\n",
    "  words = s[0].split()\n",
    "  for w in words:\n",
    "    word_dict.add(w)\n",
    "    \n",
    "# generate feature matrix\n",
    "CntVec = CountVectorizer(vocabulary = word_dict, \n",
    "             tokenizer = lambda str: str.split(\" \"))\n",
    "tr_d = [item for sublist in train_data['sentence'].tolist() for item in sublist] \n",
    "te_d = [item for sublist in test_data['sentence'].tolist() for item in sublist] \n",
    "X_train = CntVec.fit_transform(tr_d)\n",
    "X_test = CntVec.fit_transform(te_d)"
   ]
  },
  {
   "cell_type": "code",
   "execution_count": null,
   "metadata": {},
   "outputs": [],
   "source": [
    "### Start\n",
    "\n",
    "import string\n",
    "nltk.download('stopwords')\n",
    "from nltk.corpus import stopwords\n",
    "stopwords.words('english')\n",
    "nltk.download('wordnet')\n",
    "\n",
    "\n",
    "def preprocess(X):\n",
    "    stop_words = set(stopwords.words('english'))\n",
    "    X['sentence'] = list(map(lambda x:x.lower(), X['sentence']))\n",
    "    punctuation = set(string.punctuation)\n",
    "    X['sentence'] = list(map(lambda x:''.join(ch for ch in x if ch not in punctuation), X['sentence']))\n",
    "    X['sentence'] = list(map(lambda x:' '.join(w for w in x.split(' ') if w not in stop_words), X['sentence']))\n",
    "    wnl = nltk.stem.WordNetLemmatizer()\n",
    "    X['sentence'] = list(map(lambda x:' '.join(wnl.lemmatize(w) for w in x.split(' ')), X['sentence']))\n"
   ]
  }
 ],
 "metadata": {
  "kernelspec": {
   "display_name": "Python 3",
   "language": "python",
   "name": "python3"
  },
  "language_info": {
   "codemirror_mode": {
    "name": "ipython",
    "version": 3
   },
   "file_extension": ".py",
   "mimetype": "text/x-python",
   "name": "python",
   "nbconvert_exporter": "python",
   "pygments_lexer": "ipython3",
   "version": "3.6.5"
  }
 },
 "nbformat": 4,
 "nbformat_minor": 2
}
