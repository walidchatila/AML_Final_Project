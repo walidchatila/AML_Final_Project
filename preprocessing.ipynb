{
 "cells": [
  {
   "cell_type": "code",
   "execution_count": null,
   "metadata": {},
   "outputs": [],
   "source": []
  },
  {
   "cell_type": "code",
   "execution_count": 151,
   "metadata": {},
   "outputs": [
    {
     "name": "stdout",
     "output_type": "stream",
     "text": [
      "[nltk_data] Downloading package stopwords to /Users/walid/nltk_data...\n",
      "[nltk_data]   Package stopwords is already up-to-date!\n",
      "[nltk_data] Downloading package wordnet to /Users/walid/nltk_data...\n",
      "[nltk_data]   Package wordnet is already up-to-date!\n"
     ]
    }
   ],
   "source": [
    "import os\n",
    "import glob\n",
    "import numpy as np\n",
    "import string\n",
    "import nltk\n",
    "from nltk.corpus import stopwords\n",
    "from sklearn.feature_extraction.text import CountVectorizer\n",
    "\n",
    "\n",
    "\n",
    "def load_data(path):\n",
    "    data = []\n",
    "    for filename in glob.glob(os.path.join(path, \"*.txt\")):\n",
    "        with open(filename, \"r\") as description_file:\n",
    "            label = int(filename[len(path):-4])\n",
    "            sentence = \" \".join(line.strip() for line in description_file)\n",
    "            newrow = (sentence,label) \n",
    "            data.append(newrow)\n",
    "\n",
    "    dt = np.dtype([('sentence', object), ('label', int)])\n",
    "    return(np.array(data,dtype=dt))\n",
    "\n",
    "            \n",
    "nltk.download('stopwords')\n",
    "stopwords.words('english')\n",
    "nltk.download('wordnet')\n",
    "\n",
    "\n",
    "def preprocess(data):\n",
    "    stop_words = set(stopwords.words('english'))\n",
    "    data['sentence'] = list(map(lambda x:x.lower(), data['sentence']))\n",
    "    punctuation = set(string.punctuation)\n",
    "    data['sentence'] = list(map(lambda x:''.join(ch for ch in x if ch not in punctuation), data['sentence']))\n",
    "    data['sentence'] = list(map(lambda x:' '.join(w for w in x.split(' ') if w not in stop_words), data['sentence']))\n",
    "    wnl = nltk.stem.WordNetLemmatizer()\n",
    "    data['sentence'] = list(map(lambda x:' '.join(wnl.lemmatize(w) for w in x.split(' ')), data['sentence']))\n",
    "    return(data)\n",
    "    \n",
    "\n",
    "def vectorize(train_data, test_data):\n",
    "    word_dict = set()\n",
    "    for s in train_data['sentence']:\n",
    "      words = s[0].split()\n",
    "      for w in words:\n",
    "        word_dict.add(w)\n",
    "\n",
    "    # generate feature matrix\n",
    "    CntVec = CountVectorizer(vocabulary = word_dict, \n",
    "                 tokenizer = lambda str: str.split(\" \"))\n",
    "    tr_d = [item for sublist in train_data['sentence'].tolist() for item in sublist] \n",
    "    te_d = [item for sublist in test_data['sentence'].tolist() for item in sublist] \n",
    "    X_train = CntVec.fit_transform(tr_d)\n",
    "    X_test = CntVec.fit_transform(te_d)\n",
    "    return(X_train, X_test)\n",
    "    \n",
    "path = \"/Users/walid/Documents/Applied_Machine_Learning/Final/Data/descriptions_train/\"\n",
    "train_data = load_data(path)\n",
    "path = \"/Users/walid/Documents/Applied_Machine_Learning/Final/Data/descriptions_test/\"\n",
    "test_data = load_data(path)\n",
    "\n",
    "\n",
    "train_data = preprocess(train_data)\n",
    "test_data =  preprocess(test_data)\n",
    "\n",
    "X_train, X_test = vectorize(train_data, test_data)"
   ]
  },
  {
   "cell_type": "code",
   "execution_count": 154,
   "metadata": {},
   "outputs": [
    {
     "data": {
      "text/plain": [
       "<1x28 sparse matrix of type '<class 'numpy.int64'>'\n",
       "\twith 1 stored elements in Compressed Sparse Row format>"
      ]
     },
     "execution_count": 154,
     "metadata": {},
     "output_type": "execute_result"
    }
   ],
   "source": []
  },
  {
   "cell_type": "code",
   "execution_count": null,
   "metadata": {},
   "outputs": [],
   "source": []
  }
 ],
 "metadata": {
  "kernelspec": {
   "display_name": "Python 3",
   "language": "python",
   "name": "python3"
  },
  "language_info": {
   "codemirror_mode": {
    "name": "ipython",
    "version": 3
   },
   "file_extension": ".py",
   "mimetype": "text/x-python",
   "name": "python",
   "nbconvert_exporter": "python",
   "pygments_lexer": "ipython3",
   "version": "3.6.5"
  }
 },
 "nbformat": 4,
 "nbformat_minor": 2
}
