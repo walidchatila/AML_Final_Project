{
 "cells": [
  {
   "cell_type": "code",
   "execution_count": 3,
   "metadata": {},
   "outputs": [],
   "source": [
    "import os\n",
    "import glob\n",
    "import numpy as np\n",
    "import string\n",
    "import nltk\n",
    "from nltk.corpus import stopwords\n",
    "from sklearn.feature_extraction.text import CountVectorizer"
   ]
  },
  {
   "cell_type": "code",
   "execution_count": 4,
   "metadata": {},
   "outputs": [],
   "source": [
    "def load_descriptions(path):\n",
    "    data = []\n",
    "    for filename in glob.glob(os.path.join(path, \"*.txt\")):\n",
    "        with open(filename, \"r\") as description_file:\n",
    "            label = os.path.splitext(os.path.basename(filename))[0]\n",
    "            sentence = \" \".join(line.strip() for line in description_file)\n",
    "            new_row = (sentence, label) \n",
    "            data.append(new_row)\n",
    "\n",
    "    dt = np.dtype([('sentence', object), ('label', object)])\n",
    "    return(np.array(data, dtype = dt))"
   ]
  },
  {
   "cell_type": "code",
   "execution_count": 5,
   "metadata": {},
   "outputs": [],
   "source": [
    "train_descriptions_path = \"data/descriptions_train/\"\n",
    "test_descriptions_path = \"data/descriptions_train/\"\n",
    "\n",
    "train_data = load_descriptions(train_descriptions_path)\n",
    "test_data = load_descriptions(test_descriptions_path)"
   ]
  },
  {
   "cell_type": "code",
   "execution_count": null,
   "metadata": {},
   "outputs": [],
   "source": [
    "print(train_data.shape, test_data.shape)\n",
    "print(train_data[0:10])"
   ]
  },
  {
   "cell_type": "code",
   "execution_count": null,
   "metadata": {},
   "outputs": [],
   "source": [
    "punctuation = set(string.punctuation)\n",
    "stop_words = set(stopwords.words('english'))\n",
    "wnl = nltk.stem.WordNetLemmatizer()\n",
    "\n",
    "def preprocess(data):\n",
    "    data['sentence'] = list(map(lambda x:x.lower(), data['sentence']))\n",
    "    data['sentence'] = list(map(lambda x:''.join(ch for ch in x if ch not in punctuation), data['sentence']))\n",
    "    data['sentence'] = list(map(lambda x:' '.join(w for w in x.split(' ') if w not in stop_words), data['sentence']))\n",
    "    data['sentence'] = list(map(lambda x:' '.join(wnl.lemmatize(w) for w in x.split(' ')), data['sentence']))\n",
    "    return(data)"
   ]
  },
  {
   "cell_type": "code",
   "execution_count": 151,
   "metadata": {},
   "outputs": [
    {
     "name": "stdout",
     "output_type": "stream",
     "text": [
      "[nltk_data] Downloading package stopwords to /Users/walid/nltk_data...\n",
      "[nltk_data]   Package stopwords is already up-to-date!\n",
      "[nltk_data] Downloading package wordnet to /Users/walid/nltk_data...\n",
      "[nltk_data]   Package wordnet is already up-to-date!\n"
     ]
    }
   ],
   "source": [
    "train_data = preprocess(train_data)\n",
    "test_data =  preprocess(test_data)"
   ]
  },
  {
   "cell_type": "code",
   "execution_count": 154,
   "metadata": {},
   "outputs": [
    {
     "data": {
      "text/plain": [
       "<1x28 sparse matrix of type '<class 'numpy.int64'>'\n",
       "\twith 1 stored elements in Compressed Sparse Row format>"
      ]
     },
     "execution_count": 154,
     "metadata": {},
     "output_type": "execute_result"
    }
   ],
   "source": [
    "print(train_data.shape, test_data.shape)\n",
    "print(train_data[0:10])"
   ]
  },
  {
   "cell_type": "code",
   "execution_count": null,
   "metadata": {},
   "outputs": [],
   "source": [
    "word_dict = set()\n",
    "for s in train_data['sentence']:\n",
    "    words = s.split()\n",
    "    for w in words:\n",
    "        word_dict.add(w)"
   ]
  },
  {
   "cell_type": "code",
   "execution_count": null,
   "metadata": {},
   "outputs": [],
   "source": [
    "print(len(word_dict))\n",
    "list(word_dict)[0:10]"
   ]
  },
  {
   "cell_type": "code",
   "execution_count": null,
   "metadata": {},
   "outputs": [],
   "source": [
    "def vectorize(train_data, test_data):\n",
    "    \n",
    "    CntVec = CountVectorizer(vocabulary = word_dict, \n",
    "                             tokenizer = lambda str: str.split(\" \"))\n",
    "    \n",
    "    tr_d = [word for word in train_data['sentence'].tolist()] \n",
    "    te_d = [word for word in test_data['sentence'].tolist()] \n",
    "    \n",
    "    X_train = CntVec.fit_transform(tr_d)\n",
    "    X_test = CntVec.fit_transform(te_d)\n",
    "    \n",
    "    return(X_train, X_test)"
   ]
  },
  {
   "cell_type": "code",
   "execution_count": null,
   "metadata": {},
   "outputs": [],
   "source": [
    "X_train, X_test = vectorize(train_data, test_data)\n",
    "print(X_train.shape, X_test.shape)"
   ]
  },
  {
   "cell_type": "code",
   "execution_count": null,
   "metadata": {},
   "outputs": [],
   "source": [
    "print(train_data[0])\n",
    "print(X_train[0])"
   ]
  }
 ],
 "metadata": {
  "kernelspec": {
   "display_name": "Python 3",
   "language": "python",
   "name": "python3"
  },
  "language_info": {
   "codemirror_mode": {
    "name": "ipython",
    "version": 3
   },
   "file_extension": ".py",
   "mimetype": "text/x-python",
   "name": "python",
   "nbconvert_exporter": "python",
   "pygments_lexer": "ipython3",
   "version": "3.6.5"
  }
 },
 "nbformat": 4,
 "nbformat_minor": 2
}
