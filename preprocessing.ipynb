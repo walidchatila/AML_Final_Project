{
 "cells": [
  {
   "cell_type": "code",
   "execution_count": 89,
   "metadata": {},
   "outputs": [],
   "source": [
    "import numpy as np\n",
    "import pandas as pd\n",
    "import sys\n",
    "import os\n",
    "import glob\n",
    "import string\n",
    "import nltk\n",
    "from sklearn.feature_extraction.text import TfidfVectorizer"
   ]
  },
  {
   "cell_type": "code",
   "execution_count": 1,
   "metadata": {},
   "outputs": [],
   "source": [
    "nltk.download('stopwords')\n",
    "nltk.download('wordnet')\n",
    "nltk.download('averaged_perceptron_tagger')\n",
    "\n",
    "from nltk.corpus import stopwords"
   ]
  },
  {
   "cell_type": "code",
   "execution_count": 101,
   "metadata": {},
   "outputs": [
    {
     "name": "stdout",
     "output_type": "stream",
     "text": [
      "(10000, 1000) (2000, 1000)\n"
     ]
    }
   ],
   "source": [
    "resnet_train = pd.read_csv(\"data/features_train/features_resnet1000_train.csv\", header = None, index_col = 0)\n",
    "# resnet_train = pd.read_csv(\"data/features_train/features_resnet1000intermediate_train.csv\", header = None, index_col = 0)\n",
    "\n",
    "resnet_test = pd.read_csv(\"data/features_test/features_resnet1000_test.csv\", header = None, index_col = 0)\n",
    "# resnet_test = pd.read_csv(\"data/features_test/features_resnet1000intermediate_test.csv\", header = None, index_col = 0)\n",
    "\n",
    "print(resnet_train.shape, resnet_test.shape)"
   ]
  },
  {
   "cell_type": "code",
   "execution_count": 105,
   "metadata": {},
   "outputs": [
    {
     "name": "stdout",
     "output_type": "stream",
     "text": [
      "                           1         2         3         4         5     \\\n",
      "0                                                                         \n",
      "images_train/5373.jpg -0.899450 -0.930470 -2.503365 -3.172499 -2.819133   \n",
      "images_train/984.jpg  -1.346954 -3.119461 -0.765971 -1.382550 -1.104675   \n",
      "images_train/7127.jpg -3.445498 -1.524573 -1.001654 -3.668335 -1.805517   \n",
      "images_train/9609.jpg  1.114650 -2.167102  0.097881 -1.336255  0.853483   \n",
      "images_train/5293.jpg  1.602650 -1.505817  3.029409  4.092412  1.711755   \n",
      "images_train/3688.jpg -1.598056 -3.197755 -1.103384 -0.969265 -0.756076   \n",
      "images_train/3340.jpg  3.967041 -2.200422 -0.272736  1.695661  2.074336   \n",
      "images_train/4787.jpg -1.349009 -0.148385 -1.723681 -2.070523 -2.659292   \n",
      "images_train/5707.jpg  0.676531 -1.743760  3.400268  2.481813  2.522729   \n",
      "images_train/1262.jpg -3.897769  0.144037 -3.280854 -3.507650 -0.995550   \n",
      "\n",
      "                           6         7         8         9         10    \\\n",
      "0                                                                         \n",
      "images_train/5373.jpg  0.992159 -3.698863  0.619991  0.956148 -0.218699   \n",
      "images_train/984.jpg  -3.656271 -4.815436 -0.556942 -1.402286  1.426897   \n",
      "images_train/7127.jpg -1.633496 -7.127826 -1.147802 -1.055816 -2.571585   \n",
      "images_train/9609.jpg -0.374885 -2.369090 -2.273191 -1.143788 -0.366391   \n",
      "images_train/5293.jpg  6.271253  4.173686 -2.177313  0.747789 -1.183095   \n",
      "images_train/3688.jpg -1.377843 -2.536916  0.959177 -1.190254 -2.460724   \n",
      "images_train/3340.jpg  5.443278  4.297240 -1.914581 -3.486772  2.134430   \n",
      "images_train/4787.jpg  1.233698 -3.030076 -1.315877 -0.603716 -2.460350   \n",
      "images_train/5707.jpg  1.446424  1.915292 -0.596382 -1.903387  4.129346   \n",
      "images_train/1262.jpg  1.209555 -4.043581 -1.906238 -1.083807 -0.539498   \n",
      "\n",
      "                         ...         991       992       993       994   \\\n",
      "0                        ...                                              \n",
      "images_train/5373.jpg    ...    -3.021916  2.214253 -1.382491  1.672911   \n",
      "images_train/984.jpg     ...     0.011003 -3.968805 -2.694711 -4.196480   \n",
      "images_train/7127.jpg    ...    -2.991777 -2.628053 -2.971074 -2.537039   \n",
      "images_train/9609.jpg    ...    -1.248134 -0.633126 -1.723514 -2.638832   \n",
      "images_train/5293.jpg    ...    -1.285806 -2.266481 -3.898053  2.295787   \n",
      "images_train/3688.jpg    ...    -1.462375 -3.780391  1.234524 -2.559528   \n",
      "images_train/3340.jpg    ...    -2.105626 -2.336287 -4.622218 -1.787587   \n",
      "images_train/4787.jpg    ...     0.256885 -4.363538 -2.709139 -2.792937   \n",
      "images_train/5707.jpg    ...    -2.186083 -1.293151 -3.159403 -0.634806   \n",
      "images_train/1262.jpg    ...    -3.188696 -3.889918 -4.361494 -1.736343   \n",
      "\n",
      "                           995       996       997       998       999   \\\n",
      "0                                                                         \n",
      "images_train/5373.jpg  1.014233  2.599949  2.773284 -2.066632  0.385754   \n",
      "images_train/984.jpg  -2.880234 -1.210742 -1.605143 -4.859987 -0.837670   \n",
      "images_train/7127.jpg -1.707429  1.013672  0.608460 -3.714998 -0.484735   \n",
      "images_train/9609.jpg  0.097149  4.647974  1.030138 -2.193836  1.044024   \n",
      "images_train/5293.jpg -1.749552  0.974188  1.258117 -1.975622 -1.278643   \n",
      "images_train/3688.jpg -1.496218 -0.378542  0.298074 -1.486927 -1.269319   \n",
      "images_train/3340.jpg -1.501848  0.808052  1.209267 -1.954793 -0.298671   \n",
      "images_train/4787.jpg -2.917552  0.342765  1.708725 -1.387726  1.374972   \n",
      "images_train/5707.jpg -1.410534  0.111361  0.235730 -2.909609 -0.303459   \n",
      "images_train/1262.jpg -3.492179 -0.567022  1.014016 -3.038599  0.311466   \n",
      "\n",
      "                           1000  \n",
      "0                                \n",
      "images_train/5373.jpg -3.241320  \n",
      "images_train/984.jpg  -0.967604  \n",
      "images_train/7127.jpg  0.138767  \n",
      "images_train/9609.jpg  0.176043  \n",
      "images_train/5293.jpg -1.941441  \n",
      "images_train/3688.jpg  0.295429  \n",
      "images_train/3340.jpg -2.184459  \n",
      "images_train/4787.jpg  0.366994  \n",
      "images_train/5707.jpg -2.668813  \n",
      "images_train/1262.jpg  5.743081  \n",
      "\n",
      "[10 rows x 1000 columns]\n"
     ]
    }
   ],
   "source": [
    "print(resnet_train[0:10])"
   ]
  },
  {
   "cell_type": "code",
   "execution_count": 2,
   "metadata": {},
   "outputs": [],
   "source": [
    "def load_descriptions(path):\n",
    "    data = []\n",
    "    for filename in glob.glob(os.path.join(path, \"*.txt\")):\n",
    "        with open(filename, \"r\") as description_file:\n",
    "            label = os.path.splitext(os.path.basename(filename))[0]\n",
    "            sentence = \" \".join(line.strip() for line in description_file)\n",
    "            new_row = (sentence, label) \n",
    "            data.append(new_row)\n",
    "\n",
    "    dt = np.dtype([('sentence', object), ('label', object)])\n",
    "    return(np.array(data, dtype = dt))"
   ]
  },
  {
   "cell_type": "code",
   "execution_count": 79,
   "metadata": {},
   "outputs": [],
   "source": [
    "train_descriptions_path = \"data/descriptions_train/\"\n",
    "test_descriptions_path = \"data/descriptions_test/\"\n",
    "\n",
    "raw_train_data = load_descriptions(train_descriptions_path)\n",
    "raw_test_data = load_descriptions(test_descriptions_path)"
   ]
  },
  {
   "cell_type": "code",
   "execution_count": 80,
   "metadata": {},
   "outputs": [
    {
     "name": "stdout",
     "output_type": "stream",
     "text": [
      "(10000,) (2000,)\n",
      "[('The skateboarder is putting on a show using the picnic table as his stage. A skateboarder pulling tricks on top of a picnic table. A man riding on a skateboard on top of a table. A skate boarder doing a trick on a picnic table. A person is riding a skateboard on a picnic table with a crowd watching.', '0')\n",
      " ('A bowl of soup that has some carrots, shrimp, and noodles in it. The healthy food is in the bowl and ready to eat. Soup has carrots and shrimp in it as it sits next to chopsticks. A tasty bowl of ramen is served for someone to enjoy. Bowl of Asian noodle soup, with shrimp and carrots.', '1')\n",
      " ('A bunch of luggage laying on an area rug. Several pieces of luggage on a floor with an area rug. The luggage is sitting on top of the persian rug. a bunch of travel bags sit on a carpet floor Several pieces of luggage that are laying on the floor.', '10')\n",
      " ('The browned cracked crust of a baked berry pie. A brown crust of pie with strawberry filing. The top of a pie looks all crusty and good. A close up of a cooked fruit flavored muffin. An image of some sort of strawberry flaky pastery on display', '100')\n",
      " ('The sign is in clear view by the traffic lights. A Juice Theory sign is near a red traffic light. The bright sign is hanging next to the traffic signal. A sign on a electrical post that is about juice. A sign reading \"Juice Theory\" near a traffic light.', '1000')\n",
      " ('A cat is  sleeping inside a duffel bag. An orange cat lays in a black duffel bag. A cat sitting inside of a bag by a curtain. a small dog is packes into a duffel bag a travel bag with a cat laying inside of it', '1001')\n",
      " ('Two men walking through a field next to a large jet liner. Two people walking through a field as a plane lands. people walking down a path as a plane lands on a runway Two men are standing in a field near a landing strip. Two men walking a dog and watching an airplane about to take off.', '1002')\n",
      " ('A group of people riding skis down a snow covered street. A family skiing a city street while others clean snow off their cars. People are riding on skis in the snow on a street. Several people going down a snowy street in skis. The people have there skis on in the middle of the street.', '1003')\n",
      " ('A couple of guys standing up and playing Wii together. Adult men actively play video games with Wii controllers. A group of young men are playing a video game. Two men standing in a living room holding Wii remotes and nun-chucks. A couple of men standing in a living room together.', '1004')\n",
      " ('The boats navigated around the curves of the attraction. A few empty boats at a river ride Small boats sit unused in water by a dock. Different color boats along a river in a water park. A multicolored boat ride at an amusement park.', '1005')]\n"
     ]
    }
   ],
   "source": [
    "print(raw_train_data.shape, raw_test_data.shape)\n",
    "print(raw_train_data[0:10])"
   ]
  },
  {
   "cell_type": "code",
   "execution_count": 81,
   "metadata": {},
   "outputs": [],
   "source": [
    "punctuation = set(string.punctuation)\n",
    "stop_words = set(stopwords.words('english'))\n",
    "keep_pos_nouns = ['NN', 'NNS', 'NNP', 'NNPS']\n",
    "keep_pos_all = ['NN', 'NNS', 'NNP', 'NNPS', 'JJ', 'VB', 'VBG', 'VBZ']\n",
    "wnl = nltk.stem.WordNetLemmatizer()\n",
    "\n",
    "def preprocess(data, pos_to_keep = None):\n",
    "    \n",
    "    out = data.copy()\n",
    "    out['sentence'] = list(map(lambda x:x.lower(), out['sentence']))\n",
    "    out['sentence'] = list(map(lambda x:''.join(ch for ch in x if ch not in punctuation), out['sentence']))\n",
    "    out['sentence'] = list(map(lambda x:' '.join(w for w in x.split(' ') if w not in stop_words), out['sentence']))\n",
    "    out['sentence'] = list(map(lambda x:' '.join(wnl.lemmatize(w) for w in x.split(' ')), out['sentence']))\n",
    "    \n",
    "    if pos_to_keep != None:\n",
    "        out['sentence'] = list(map(lambda x:' '.join(w[0] for w in nltk.pos_tag(nltk.word_tokenize(x)) if w[1] in pos_to_keep), out['sentence']))\n",
    "    \n",
    "    return(out)"
   ]
  },
  {
   "cell_type": "code",
   "execution_count": 82,
   "metadata": {},
   "outputs": [],
   "source": [
    "train_data = preprocess(raw_train_data, keep_pos_all)\n",
    "test_data =  preprocess(raw_test_data, keep_pos_all)"
   ]
  },
  {
   "cell_type": "code",
   "execution_count": 83,
   "metadata": {},
   "outputs": [
    {
     "name": "stdout",
     "output_type": "stream",
     "text": [
      "(10000,) (2000,)\n",
      "[('skateboarder putting show using picnic table stage skateboarder pulling trick top picnic table man riding skateboard top table skate boarder trick picnic table person riding skateboard picnic table crowd watching', '0')\n",
      " ('bowl soup carrot shrimp noodle healthy food bowl ready eat soup carrot shrimp sits chopstick tasty bowl ramen someone enjoy bowl asian noodle soup shrimp carrot', '1')\n",
      " ('bunch luggage laying area several piece luggage floor area rug luggage sitting top persian rug bunch travel bag sit carpet floor several piece luggage laying floor', '10')\n",
      " ('cracked crust berry brown crust pie strawberry filing top pie look good cooked fruit muffin image sort flaky pastery display', '100')\n",
      " ('sign clear view traffic light juice theory sign red traffic light bright sign hanging next traffic signal sign electrical post juice sign reading juice theory traffic light', '1000')\n",
      " ('cat sleeping duffel bag orange cat black duffel bag cat sitting bag small dog packes bag travel bag cat laying', '1001')\n",
      " ('men walking field next large jet liner people walking field plane land people walking path plane men standing field landing strip men walking dog watching airplane take', '1002')\n",
      " ('group people riding ski snow street family skiing city street others snow car people riding ski snow street several people going snowy street ski people middle street', '1003')\n",
      " ('couple guy standing playing wii adult men video game wii controller group young men playing video game men standing living room holding wii remote nunchucks men standing living room', '1004')\n",
      " ('boat curve attraction empty boat river small boat sit unused water dock different color boat river water park boat ride amusement park', '1005')]\n"
     ]
    }
   ],
   "source": [
    "print(train_data.shape, test_data.shape)\n",
    "print(train_data[0:10])"
   ]
  },
  {
   "cell_type": "code",
   "execution_count": 84,
   "metadata": {},
   "outputs": [],
   "source": [
    "word_dict = set()\n",
    "for s in train_data['sentence']:\n",
    "    words = s.split()\n",
    "    for w in words:\n",
    "        word_dict.add(w)"
   ]
  },
  {
   "cell_type": "code",
   "execution_count": 90,
   "metadata": {},
   "outputs": [
    {
     "name": "stdout",
     "output_type": "stream",
     "text": [
      "7038\n"
     ]
    },
    {
     "data": {
      "text/plain": [
       "['ludicrous',\n",
       " 'lacking',\n",
       " 'roast',\n",
       " 'trek',\n",
       " 'mountainous',\n",
       " 'thre',\n",
       " 'swim',\n",
       " 'patriotic',\n",
       " 'humorous',\n",
       " 'wellmade']"
      ]
     },
     "execution_count": 90,
     "metadata": {},
     "output_type": "execute_result"
    }
   ],
   "source": [
    "print(len(word_dict))\n",
    "list(word_dict)[0:10]"
   ]
  },
  {
   "cell_type": "code",
   "execution_count": 91,
   "metadata": {},
   "outputs": [],
   "source": [
    "def vectorize(train_data, test_data):\n",
    "    \n",
    "    Tfidf = TfidfVectorizer(vocabulary = word_dict, \n",
    "                            tokenizer = lambda str: str.split(\" \"))\n",
    "    \n",
    "    tr_d = [word for word in train_data['sentence'].tolist()] \n",
    "    te_d = [word for word in test_data['sentence'].tolist()] \n",
    "    \n",
    "    X_train = Tfidf.fit_transform(tr_d)\n",
    "    X_test = Tfidf.fit_transform(te_d)\n",
    "    \n",
    "    return(X_train, X_test)"
   ]
  },
  {
   "cell_type": "code",
   "execution_count": 92,
   "metadata": {},
   "outputs": [
    {
     "name": "stdout",
     "output_type": "stream",
     "text": [
      "(10000, 7038) (2000, 7038)\n"
     ]
    }
   ],
   "source": [
    "X_train, X_test = vectorize(train_data, test_data)\n",
    "print(X_train.shape, X_test.shape)"
   ]
  },
  {
   "cell_type": "code",
   "execution_count": 93,
   "metadata": {},
   "outputs": [
    {
     "name": "stdout",
     "output_type": "stream",
     "text": [
      "('skateboarder putting show using picnic table stage skateboarder pulling trick top picnic table man riding skateboard top table skate boarder trick picnic table person riding skateboard picnic table crowd watching', '0')\n",
      "  (0, 6783)\t0.12053926958581132\n",
      "  (0, 6619)\t0.12127189129739563\n",
      "  (0, 6414)\t0.24667824208973552\n",
      "  (0, 6319)\t0.14277759161319625\n",
      "  (0, 6091)\t0.3853043493472325\n",
      "  (0, 5802)\t0.18503232966603594\n",
      "  (0, 5522)\t0.26959294300622977\n",
      "  (0, 5521)\t0.23031291251512154\n",
      "  (0, 5519)\t0.1277550086027136\n",
      "  (0, 5433)\t0.13522916887226213\n",
      "  (0, 5027)\t0.17069388821130024\n",
      "  (0, 4796)\t0.15739505742327461\n",
      "  (0, 4772)\t0.13727613164596256\n",
      "  (0, 4449)\t0.6510591890903679\n",
      "  (0, 4412)\t0.07473838331697687\n",
      "  (0, 3575)\t0.06230190293115674\n",
      "  (0, 1490)\t0.12361014704073833\n",
      "  (0, 628)\t0.158491376463526\n"
     ]
    }
   ],
   "source": [
    "print(train_data[0])\n",
    "print(X_train[0])"
   ]
  },
  {
   "cell_type": "code",
   "execution_count": null,
   "metadata": {},
   "outputs": [],
   "source": []
  }
 ],
 "metadata": {
  "kernelspec": {
   "display_name": "Python 3",
   "language": "python",
   "name": "python3"
  },
  "language_info": {
   "codemirror_mode": {
    "name": "ipython",
    "version": 3
   },
   "file_extension": ".py",
   "mimetype": "text/x-python",
   "name": "python",
   "nbconvert_exporter": "python",
   "pygments_lexer": "ipython3",
   "version": "3.6.5"
  }
 },
 "nbformat": 4,
 "nbformat_minor": 2
}
