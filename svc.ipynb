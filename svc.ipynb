{
 "cells": [
  {
   "cell_type": "code",
   "execution_count": 9,
   "metadata": {},
   "outputs": [],
   "source": [
    "import os\n",
    "import glob\n",
    "import re\n",
    "import numpy as np\n",
    "import pandas as pd\n",
    "import scipy.sparse\n",
    "import sklearn.metrics.pairwise as mp\n",
    "from PIL import Image\n",
    "import matplotlib.pyplot as plt\n",
    "from sklearn.multiclass import OneVsRestClassifier\n",
    "from sklearn.svm import SVC\n",
    "from sklearn.svm import LinearSVC\n",
    "%matplotlib inline"
   ]
  },
  {
   "cell_type": "code",
   "execution_count": 3,
   "metadata": {},
   "outputs": [],
   "source": [
    "X_train = scipy.sparse.load_npz(\"data/processed_descriptions/train_descriptions.npz\")\n",
    "X_test  = scipy.sparse.load_npz(\"data/processed_descriptions/test_descriptions.npz\")\n",
    "\n",
    "X_train_nouns = scipy.sparse.load_npz(\"data/processed_descriptions/train_descriptions_nouns.npz\")\n",
    "X_test_nouns  = scipy.sparse.load_npz(\"data/processed_descriptions/test_descriptions_nouns.npz\")"
   ]
  },
  {
   "cell_type": "code",
   "execution_count": 4,
   "metadata": {},
   "outputs": [],
   "source": [
    "Y_train = scipy.sparse.load_npz(\"data/processed_tags/train_tag_nocat_tfdif.npz\")\n",
    "Y_test  = scipy.sparse.load_npz(\"data/processed_tags/test_tag_nocat_tfdif.npz\")"
   ]
  },
  {
   "cell_type": "code",
   "execution_count": 5,
   "metadata": {},
   "outputs": [
    {
     "name": "stdout",
     "output_type": "stream",
     "text": [
      "(10000, 1000) (2000, 1000)\n",
      "(10000, 2048) (2000, 2048)\n"
     ]
    }
   ],
   "source": [
    "resnet_fc1000_train = pd.read_csv(\"data/features_train/features_resnet1000_train.csv\", header = None, index_col = 0)\n",
    "resnet_train = pd.read_csv(\"data/features_train/features_resnet1000intermediate_train.csv\", header = None, index_col = 0)\n",
    "\n",
    "resnet_fc1000_test = pd.read_csv(\"data/features_test/features_resnet1000_test.csv\", header = None, index_col = 0)\n",
    "resnet_test = pd.read_csv(\"data/features_test/features_resnet1000intermediate_test.csv\", header = None, index_col = 0)\n",
    "\n",
    "print(resnet_fc1000_train.shape, resnet_fc1000_test.shape)\n",
    "print(resnet_train.shape, resnet_test.shape)"
   ]
  },
  {
   "cell_type": "code",
   "execution_count": 6,
   "metadata": {},
   "outputs": [
    {
     "name": "stdout",
     "output_type": "stream",
     "text": [
      "Index(['images_train/5373.jpg', 'images_train/984.jpg',\n",
      "       'images_train/7127.jpg', 'images_train/5293.jpg',\n",
      "       'images_train/3688.jpg', 'images_train/3340.jpg',\n",
      "       'images_train/4787.jpg', 'images_train/5707.jpg',\n",
      "       'images_train/1262.jpg', 'images_train/8355.jpg'],\n",
      "      dtype='object', name=0)\n",
      "[5373, 984, 7127, 5293, 3688, 3340, 4787, 5707, 1262, 8355]\n",
      "Index(['images_test/152.jpg', 'images_test/901.jpg', 'images_test/1609.jpg',\n",
      "       'images_test/501.jpg', 'images_test/517.jpg', 'images_test/1516.jpg',\n",
      "       'images_test/1822.jpg', 'images_test/1993.jpg', 'images_test/405.jpg',\n",
      "       'images_test/1718.jpg'],\n",
      "      dtype='object', name=0)\n",
      "[152, 901, 1609, 501, 517, 1516, 1822, 1993, 405, 1718]\n"
     ]
    }
   ],
   "source": [
    "tr_idx = resnet_train.index\n",
    "print(tr_idx[0:10])\n",
    "new_idx1 = [int(re.findall(\"\\d+\", idx)[0]) for idx in tr_idx]\n",
    "print(new_idx1[0:10])\n",
    "resnet_train = np.array(pd.DataFrame(np.array(resnet_train), index = new_idx1).sort_index())\n",
    "\n",
    "te_idx = resnet_test.index\n",
    "print(te_idx[0:10])\n",
    "new_idx2 = [int(re.findall(\"\\d+\", idx)[0]) for idx in te_idx]\n",
    "print(new_idx2[0:10])\n",
    "resnet_test = np.array(pd.DataFrame(np.array(resnet_test), index = new_idx2).sort_index())"
   ]
  },
  {
   "cell_type": "code",
   "execution_count": 7,
   "metadata": {},
   "outputs": [
    {
     "name": "stdout",
     "output_type": "stream",
     "text": [
      "Index(['images_train/5373.jpg', 'images_train/984.jpg',\n",
      "       'images_train/7127.jpg', 'images_train/9609.jpg',\n",
      "       'images_train/5293.jpg', 'images_train/3688.jpg',\n",
      "       'images_train/3340.jpg', 'images_train/4787.jpg',\n",
      "       'images_train/5707.jpg', 'images_train/1262.jpg'],\n",
      "      dtype='object', name=0)\n",
      "[5373, 984, 7127, 9609, 5293, 3688, 3340, 4787, 5707, 1262]\n",
      "Index(['images_test/152.jpg', 'images_test/901.jpg', 'images_test/1609.jpg',\n",
      "       'images_test/501.jpg', 'images_test/517.jpg', 'images_test/1822.jpg',\n",
      "       'images_test/1993.jpg', 'images_test/832.jpg', 'images_test/1462.jpg',\n",
      "       'images_test/1718.jpg'],\n",
      "      dtype='object', name=0)\n",
      "[152, 901, 1609, 501, 517, 1822, 1993, 832, 1462, 1718]\n"
     ]
    }
   ],
   "source": [
    "fc_tr_idx = resnet_fc1000_train.index\n",
    "print(fc_tr_idx[0:10])\n",
    "fc_new_idx1 = [int(re.findall(\"\\d+\", idx)[0]) for idx in fc_tr_idx]\n",
    "print(fc_new_idx1[0:10])\n",
    "resnet_fc1000_train = np.array(pd.DataFrame(np.array(resnet_fc1000_train), index = fc_new_idx1).sort_index())\n",
    "\n",
    "fc_te_idx = resnet_fc1000_test.index\n",
    "print(fc_te_idx[0:10])\n",
    "fc_new_idx2 = [int(re.findall(\"\\d+\", idx)[0]) for idx in fc_te_idx]\n",
    "print(fc_new_idx2[0:10])\n",
    "resnet_fc1000_test = np.array(pd.DataFrame(np.array(resnet_fc1000_test), index = fc_new_idx2).sort_index())"
   ]
  },
  {
   "cell_type": "code",
   "execution_count": 10,
   "metadata": {},
   "outputs": [],
   "source": [
    "cls_svc_rbf = OneVsRestClassifier(SVC(kernel = 'rbf'))\n",
    "cls_lsvc = OneVsRestClassifier(LinearSVC(loss = 'hinge'))"
   ]
  },
  {
   "cell_type": "code",
   "execution_count": null,
   "metadata": {},
   "outputs": [],
   "source": [
    "cls_lsvc.fit(X_train.toarray(), Y_train.toarray())"
   ]
  },
  {
   "cell_type": "code",
   "execution_count": null,
   "metadata": {},
   "outputs": [],
   "source": [
    "cls_svc_rbf.fit(X_train.toarray(), Y_train.toarray())"
   ]
  }
 ],
 "metadata": {
  "kernelspec": {
   "display_name": "Python 3",
   "language": "python",
   "name": "python3"
  },
  "language_info": {
   "codemirror_mode": {
    "name": "ipython",
    "version": 3
   },
   "file_extension": ".py",
   "mimetype": "text/x-python",
   "name": "python",
   "nbconvert_exporter": "python",
   "pygments_lexer": "ipython3",
   "version": "3.6.5"
  }
 },
 "nbformat": 4,
 "nbformat_minor": 2
}
