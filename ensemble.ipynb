{
 "cells": [
  {
   "cell_type": "code",
   "execution_count": 21,
   "metadata": {},
   "outputs": [],
   "source": [
    "import os\n",
    "import glob\n",
    "import re\n",
    "import numpy as np\n",
    "import pandas as pd\n",
    "import scipy\n",
    "from PIL import Image\n",
    "import matplotlib.pyplot as plt\n",
    "from sklearn.neural_network import MLPRegressor\n",
    "%matplotlib inline"
   ]
  },
  {
   "cell_type": "code",
   "execution_count": 11,
   "metadata": {},
   "outputs": [],
   "source": [
    "X_train_nolemma = scipy.sparse.load_npz(\"data/processed_descriptions/train_descriptions_noLemma.npz\")\n",
    "X_test_nolemma = scipy.sparse.load_npz(\"data/processed_descriptions/test_descriptions_noLemma.npz\")\n",
    "X_train_nouns_nolemma = scipy.sparse.load_npz(\"data/processed_descriptions/train_descriptions_nouns_noLemma.npz\")\n",
    "X_test_nouns_nolemma = scipy.sparse.load_npz(\"data/processed_descriptions/test_descriptions_nouns_noLemma.npz\")"
   ]
  },
  {
   "cell_type": "code",
   "execution_count": 12,
   "metadata": {},
   "outputs": [],
   "source": [
    "Y_train = scipy.sparse.load_npz(\"data/processed_tags/train_tag_nocat_tfdif.npz\")\n",
    "Y_test  = scipy.sparse.load_npz(\"data/processed_tags/test_tag_nocat_tfdif.npz\")"
   ]
  },
  {
   "cell_type": "code",
   "execution_count": 16,
   "metadata": {},
   "outputs": [],
   "source": [
    "def load_descriptions(path):\n",
    "    data = []\n",
    "    for filename in glob.glob(os.path.join(path, \"*.txt\")):\n",
    "        with open(filename, \"r\") as description_file:\n",
    "            label = os.path.splitext(os.path.basename(filename))[0]\n",
    "            sentence = \" \".join(line.strip() for line in description_file)\n",
    "            new_row = (sentence, label) \n",
    "            data.append(new_row)\n",
    "\n",
    "    dt = np.dtype([('sentence', object), ('label', 'int64')])\n",
    "    return(np.array(data, dtype = dt))\n",
    "\n",
    "train_descriptions_path = \"data/descriptions_train/\"\n",
    "test_descriptions_path = \"data/descriptions_test/\"\n",
    "\n",
    "train_data = load_descriptions(train_descriptions_path)\n",
    "test_data = load_descriptions(test_descriptions_path)\n",
    "\n",
    "train_data.sort(order = 'label', axis = 0)\n",
    "test_data.sort(order = 'label', axis = 0)"
   ]
  },
  {
   "cell_type": "code",
   "execution_count": 2,
   "metadata": {},
   "outputs": [],
   "source": [
    "def map20(test, sim_matrix): \n",
    "    total_score = 0\n",
    "    for num, idx in enumerate(test):\n",
    "        score = 0\n",
    "        rank = np.argwhere(np.argsort(sim_matrix[num])[::-1] == num)[0][0]\n",
    "        if rank <20:\n",
    "            score = (20 + 1-(rank+1))/20\n",
    "        else:\n",
    "            score = 0 \n",
    "        total_score += score\n",
    "    return total_score"
   ]
  },
  {
   "cell_type": "code",
   "execution_count": 4,
   "metadata": {},
   "outputs": [],
   "source": []
  },
  {
   "cell_type": "code",
   "execution_count": 34,
   "metadata": {},
   "outputs": [],
   "source": [
    "pls_resnet_all = np.loadtxt(\"output/nolemma_plsr_resnet_all_sims.txt\")\n",
    "pls_resnet_nouns = np.loadtxt(\"output/nolemma_plsr_resnet_noun_sims.txt\")\n",
    "mlp_autoencoder_tags = np.loadtxt(\"output/mlp_reg_sims.txt\")\n",
    "# lsvc_tags = np.loadtxt(\"output/lsvc_sims.txt\")\n",
    "pls_resnet_verbs = np.loadtxt(\"output/verbs_resnet_sims.txt\")"
   ]
  },
  {
   "cell_type": "code",
   "execution_count": 31,
   "metadata": {},
   "outputs": [],
   "source": [
    "merged_sims = (pls_resnet_all + pls_resnet_nouns + mlp_autoencoder_tags + pls_renset_verbs)/4"
   ]
  },
  {
   "cell_type": "code",
   "execution_count": 39,
   "metadata": {},
   "outputs": [],
   "source": [
    "pls_resnet_all_ranks = (pls_resnet_all).argsort(axis = 1).argsort(axis = 1)\n",
    "pls_resnet_nouns_ranks = (pls_resnet_nouns).argsort(axis = 1).argsort(axis = 1)\n",
    "pls_resnet_verbs_ranks = (pls_resnet_verbs).argsort(axis = 1).argsort(axis = 1)\n",
    "mlp_autoencoder_tags_ranks = (mlp_autoencoder_tags).argsort(axis = 1).argsort(axis = 1)"
   ]
  },
  {
   "cell_type": "code",
   "execution_count": 40,
   "metadata": {},
   "outputs": [],
   "source": [
    "merged_ranks = (pls_resnet_all_ranks + pls_resnet_nouns_ranks + mlp_autoencoder_tags_ranks + pls_resnet_verbs_ranks)/4"
   ]
  },
  {
   "cell_type": "code",
   "execution_count": 41,
   "metadata": {},
   "outputs": [
    {
     "data": {
      "text/plain": [
       "array([[ 934.  ,  420.75, 1542.25, ...,  369.  ,  332.75,  196.5 ],\n",
       "       [1568.25, 1025.  ,  952.5 , ...,  383.25, 1144.  , 1888.5 ],\n",
       "       [1051.25, 1024.  ,  915.  , ...,  726.75, 1693.25,  233.25],\n",
       "       ...,\n",
       "       [1494.75,  822.75, 1722.75, ...,  664.25,  685.5 ,  941.25],\n",
       "       [1525.5 ,  339.5 , 1651.75, ...,  478.  ,  947.75,  629.  ],\n",
       "       [1296.5 , 1509.  , 1813.75, ...,  838.75,  643.25,  531.75]])"
      ]
     },
     "execution_count": 41,
     "metadata": {},
     "output_type": "execute_result"
    }
   ],
   "source": [
    "merged_ranks"
   ]
  },
  {
   "cell_type": "code",
   "execution_count": 43,
   "metadata": {},
   "outputs": [],
   "source": [
    "with open('output/pls_resnet_mlp_autoencoder_v2.txt', 'w') as f:\n",
    "    for i in range(0, X_test_nolemma.shape[0]):\n",
    "        row = \" \".join([str(img) + \".jpg\" for img in np.argsort(merged_sims[i])[::-1][0:20]])\n",
    "        row = str(i) + \".txt,\" + row\n",
    "        f.write(\"%s\\n\" % row)"
   ]
  },
  {
   "cell_type": "code",
   "execution_count": null,
   "metadata": {},
   "outputs": [],
   "source": []
  }
 ],
 "metadata": {
  "kernelspec": {
   "display_name": "Python 3",
   "language": "python",
   "name": "python3"
  },
  "language_info": {
   "codemirror_mode": {
    "name": "ipython",
    "version": 3
   },
   "file_extension": ".py",
   "mimetype": "text/x-python",
   "name": "python",
   "nbconvert_exporter": "python",
   "pygments_lexer": "ipython3",
   "version": "3.6.5"
  }
 },
 "nbformat": 4,
 "nbformat_minor": 2
}
