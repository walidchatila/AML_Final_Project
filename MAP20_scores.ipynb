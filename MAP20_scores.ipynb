{
 "cells": [
  {
   "cell_type": "code",
   "execution_count": 69,
   "metadata": {},
   "outputs": [],
   "source": [
    "from sklearn.model_selection import train_test_split\n",
    "import os\n",
    "import glob\n",
    "import re\n",
    "import numpy as np\n",
    "import sklearn.metrics.pairwise as mp\n",
    "import pandas as pd\n",
    "import scipy\n",
    "from scipy.spatial.distance import cdist\n",
    "import matplotlib.pyplot as plt\n",
    "from PIL import Image\n",
    "import matplotlib.pyplot as plt\n",
    "%matplotlib inline\n",
    "from sklearn.neural_network import MLPRegressor\n",
    "from sklearn.cross_decomposition import PLSRegression\n",
    "\n"
   ]
  },
  {
   "cell_type": "code",
   "execution_count": 70,
   "metadata": {},
   "outputs": [],
   "source": [
    "X_train = scipy.sparse.load_npz(\"data/processed_descriptions/train_descriptions_noLemma.npz\")\n",
    "X_test  = scipy.sparse.load_npz(\"data/processed_descriptions/test_descriptions_noLemma.npz\")\n",
    "\n",
    "X_train_nouns = scipy.sparse.load_npz(\"data/processed_descriptions/train_descriptions_nouns_noLemma.npz\")\n",
    "X_test_nouns  = scipy.sparse.load_npz(\"data/processed_descriptions/test_descriptions_nouns_noLemma.npz\")\n",
    "\n",
    "X_train_verbs = scipy.sparse.load_npz(\"data/processed_descriptions/train_descriptions_verbs.npz\")\n",
    "X_test_verbs  = scipy.sparse.load_npz(\"data/processed_descriptions/test_descriptions_verbs.npz\")"
   ]
  },
  {
   "cell_type": "code",
   "execution_count": 71,
   "metadata": {},
   "outputs": [],
   "source": [
    "Y_train = scipy.sparse.load_npz(\"data/processed_tags/train_tag_nocat_tfdif.npz\")\n",
    "Y_test  = scipy.sparse.load_npz(\"data/processed_tags/test_tag_nocat_tfdif.npz\")"
   ]
  },
  {
   "cell_type": "code",
   "execution_count": 72,
   "metadata": {},
   "outputs": [
    {
     "name": "stdout",
     "output_type": "stream",
     "text": [
      "(10000, 8339) (2000, 8339) (10000, 92) (2000, 92)\n"
     ]
    }
   ],
   "source": [
    "print(X_train.shape, X_test.shape, Y_train.shape, Y_test.shape)"
   ]
  },
  {
   "cell_type": "code",
   "execution_count": 73,
   "metadata": {},
   "outputs": [
    {
     "name": "stdout",
     "output_type": "stream",
     "text": [
      "(10000, 1000) (2000, 1000)\n",
      "(10000, 2048) (2000, 2048)\n"
     ]
    }
   ],
   "source": [
    "resnet_fc1000_train = pd.read_csv(\"data/features_train/features_resnet1000_train.csv\", header = None, index_col = 0)\n",
    "resnet_train = pd.read_csv(\"data/features_train/features_resnet1000intermediate_train.csv\", header = None, index_col = 0)\n",
    "\n",
    "resnet_fc1000_test = pd.read_csv(\"data/features_test/features_resnet1000_test.csv\", header = None, index_col = 0)\n",
    "resnet_test = pd.read_csv(\"data/features_test/features_resnet1000intermediate_test.csv\", header = None, index_col = 0)\n",
    "\n",
    "print(resnet_fc1000_train.shape, resnet_fc1000_test.shape)\n",
    "print(resnet_train.shape, resnet_test.shape)"
   ]
  },
  {
   "cell_type": "code",
   "execution_count": 74,
   "metadata": {},
   "outputs": [
    {
     "name": "stdout",
     "output_type": "stream",
     "text": [
      "Index(['images_train/5373.jpg', 'images_train/984.jpg',\n",
      "       'images_train/7127.jpg', 'images_train/5293.jpg',\n",
      "       'images_train/3688.jpg', 'images_train/3340.jpg',\n",
      "       'images_train/4787.jpg', 'images_train/5707.jpg',\n",
      "       'images_train/1262.jpg', 'images_train/8355.jpg'],\n",
      "      dtype='object', name=0)\n",
      "[5373, 984, 7127, 5293, 3688, 3340, 4787, 5707, 1262, 8355]\n",
      "Index(['images_test/152.jpg', 'images_test/901.jpg', 'images_test/1609.jpg',\n",
      "       'images_test/501.jpg', 'images_test/517.jpg', 'images_test/1516.jpg',\n",
      "       'images_test/1822.jpg', 'images_test/1993.jpg', 'images_test/405.jpg',\n",
      "       'images_test/1718.jpg'],\n",
      "      dtype='object', name=0)\n",
      "[152, 901, 1609, 501, 517, 1516, 1822, 1993, 405, 1718]\n"
     ]
    }
   ],
   "source": [
    "tr_idx = resnet_train.index\n",
    "print(tr_idx[0:10])\n",
    "new_idx1 = [int(re.findall(\"\\d+\", idx)[0]) for idx in tr_idx]\n",
    "print(new_idx1[0:10])\n",
    "resnet_train = np.array(pd.DataFrame(np.array(resnet_train), index = new_idx1).sort_index())\n",
    "\n",
    "te_idx = resnet_test.index\n",
    "print(te_idx[0:10])\n",
    "new_idx2 = [int(re.findall(\"\\d+\", idx)[0]) for idx in te_idx]\n",
    "print(new_idx2[0:10])\n",
    "resnet_test = np.array(pd.DataFrame(np.array(resnet_test), index = new_idx2).sort_index())"
   ]
  },
  {
   "cell_type": "code",
   "execution_count": 75,
   "metadata": {},
   "outputs": [
    {
     "name": "stdout",
     "output_type": "stream",
     "text": [
      "Index(['images_train/5373.jpg', 'images_train/984.jpg',\n",
      "       'images_train/7127.jpg', 'images_train/9609.jpg',\n",
      "       'images_train/5293.jpg', 'images_train/3688.jpg',\n",
      "       'images_train/3340.jpg', 'images_train/4787.jpg',\n",
      "       'images_train/5707.jpg', 'images_train/1262.jpg'],\n",
      "      dtype='object', name=0)\n",
      "[5373, 984, 7127, 9609, 5293, 3688, 3340, 4787, 5707, 1262]\n",
      "Index(['images_test/152.jpg', 'images_test/901.jpg', 'images_test/1609.jpg',\n",
      "       'images_test/501.jpg', 'images_test/517.jpg', 'images_test/1822.jpg',\n",
      "       'images_test/1993.jpg', 'images_test/832.jpg', 'images_test/1462.jpg',\n",
      "       'images_test/1718.jpg'],\n",
      "      dtype='object', name=0)\n",
      "[152, 901, 1609, 501, 517, 1822, 1993, 832, 1462, 1718]\n"
     ]
    }
   ],
   "source": [
    "fc_tr_idx = resnet_fc1000_train.index\n",
    "print(fc_tr_idx[0:10])\n",
    "fc_new_idx1 = [int(re.findall(\"\\d+\", idx)[0]) for idx in fc_tr_idx]\n",
    "print(fc_new_idx1[0:10])\n",
    "resnet_fc1000_train = np.array(pd.DataFrame(np.array(resnet_fc1000_train), index = fc_new_idx1).sort_index())\n",
    "\n",
    "fc_te_idx = resnet_fc1000_test.index\n",
    "print(fc_te_idx[0:10])\n",
    "fc_new_idx2 = [int(re.findall(\"\\d+\", idx)[0]) for idx in fc_te_idx]\n",
    "print(fc_new_idx2[0:10])\n",
    "resnet_fc1000_test = np.array(pd.DataFrame(np.array(resnet_fc1000_test), index = fc_new_idx2).sort_index())"
   ]
  },
  {
   "cell_type": "code",
   "execution_count": 81,
   "metadata": {},
   "outputs": [],
   "source": [
    "def map20(test, sim_matrix): \n",
    "    total_score = 0\n",
    "    for num, idx in enumerate(test):\n",
    "        num =1\n",
    "        score = 0\n",
    "        rank = np.argwhere(np.argsort(sim_matrix[num])[::-1] == num)[0][0]\n",
    "        if rank <20:\n",
    "            score = (20 + 1-(rank+1))/20\n",
    "        else:\n",
    "            score = 0 \n",
    "        total_score += score\n",
    "    return total_score"
   ]
  },
  {
   "cell_type": "code",
   "execution_count": 82,
   "metadata": {},
   "outputs": [],
   "source": [
    "### Cross Validation\n",
    "\n",
    "test_idx=[]\n",
    "train_idx=[]\n",
    "\n",
    "\n",
    "from sklearn.model_selection import train_test_split, KFold\n",
    "kf = KFold(n_splits=3, random_state=None) \n",
    "for tr_idx, te_idx in kf.split(X_train):\n",
    "    train_idx.append(tr_idx)\n",
    "    test_idx.append(te_idx)"
   ]
  },
  {
   "cell_type": "code",
   "execution_count": 56,
   "metadata": {},
   "outputs": [
    {
     "name": "stdout",
     "output_type": "stream",
     "text": [
      "0\n"
     ]
    },
    {
     "name": "stderr",
     "output_type": "stream",
     "text": [
      "/anaconda3/lib/python3.6/site-packages/sklearn/cross_decomposition/pls_.py:77: UserWarning: Maximum number of iterations reached\n",
      "  warnings.warn('Maximum number of iterations reached')\n"
     ]
    },
    {
     "name": "stdout",
     "output_type": "stream",
     "text": [
      "All to pool5\n",
      "Forward:  [0.29163020521408023]\n",
      "Reversed:  [0.14737533766684474]\n",
      "Done with:  0\n",
      "1\n",
      "All to pool5\n",
      "Forward:  [0.29163020521408023, 0.30040209294510645]\n",
      "Reversed:  [0.14737533766684474, 0.14147719909594458]\n",
      "Done with:  1\n",
      "2\n",
      "All to pool5\n",
      "Forward:  [0.29163020521408023, 0.30040209294510645, 0.2988635868956745]\n",
      "Reversed:  [0.14737533766684474, 0.14147719909594458, 0.14711494026204033]\n",
      "Done with:  2\n"
     ]
    }
   ],
   "source": [
    "### PLS forward all \n",
    "\n",
    "r2_pls_all_forward = []\n",
    "r2_pls2_all_reversed = []\n",
    "\n",
    "for i in range(3):\n",
    "    print(i)\n",
    "\n",
    "    pls2_all_forward = PLSRegression(n_components = 100)\n",
    "    pls2_all_forward.fit(X_train[train_idx[i]].toarray(), resnet_train[train_idx[i]])\n",
    "    r2_pls_all_forward.append(pls2_all_forward.score(X_train[test_idx[i]].toarray(), resnet_train[test_idx[i]]))\n",
    "    pls2_all_reversed = PLSRegression(n_components = 100)\n",
    "    pls2_all_reversed.fit(resnet_train[train_idx[i]], X_train[train_idx[i]].toarray())\n",
    "    r2_pls2_all_reversed.append(pls2_all_reversed.score(resnet_train[test_idx[i]], X_train[test_idx[i]].toarray()))\n",
    "    \n",
    "    print(\"All to pool5\")\n",
    "    print(\"Forward: \", r2_pls_all_forward)\n",
    "    print(\"Reversed: \", r2_pls2_all_reversed)\n",
    "    \n",
    "    \n",
    "    print('Done with: ', i)\n",
    "    \n",
    "    \n"
   ]
  },
  {
   "cell_type": "code",
   "execution_count": 83,
   "metadata": {},
   "outputs": [
    {
     "name": "stdout",
     "output_type": "stream",
     "text": [
      "0\n",
      "[0.5081152176692415]\n",
      "[0.5499999999999695]\n",
      "1\n",
      "[0.5081152176692415, 0.5263438445091709]\n",
      "[0.5499999999999695, 0.0]\n",
      "2\n",
      "[0.5081152176692415, 0.5263438445091709, 0.5187922765058834]\n",
      "[0.5499999999999695, 0.0, 0.0]\n"
     ]
    }
   ],
   "source": [
    "scores = []\n",
    "map20_scores = []\n",
    "for i in range(3):\n",
    "    print(i)\n",
    "    mlp_all = MLPRegressor(activation = 'relu', \n",
    "                         hidden_layer_sizes = (500, 100, 500),\n",
    "                         max_iter = 200,\n",
    "                         learning_rate = \"adaptive\",\n",
    "                         warm_start = True)\n",
    "    #print(X_train[train_idx[i]].shape, X_train[test_idx[i]].shape)\n",
    "    mlp_all.fit(X_train_nouns[train_idx[i]], Y_train[train_idx[i]].toarray())\n",
    "    pred = mlp_all.predict(X_train_nouns[test_idx[i]])\n",
    "    sim_matrix = mp.cosine_similarity(pred, Y_train[test_idx[i]])\n",
    "    map20_scores.append(map20(test=test_idx[i], sim_matrix=sim_matrix)/test_idx[0].shape[0])\n",
    "    #pred = mlp_pool5.predict(X_test)\n",
    "    scores.append(mlp_all.score(X_train_nouns[test_idx[i]], Y_train[test_idx[i]].toarray()))\n",
    "    \n",
    "    print(scores)\n",
    "    print(map20_scores)"
   ]
  },
  {
   "cell_type": "code",
   "execution_count": 58,
   "metadata": {},
   "outputs": [
    {
     "name": "stdout",
     "output_type": "stream",
     "text": [
      "0\n"
     ]
    },
    {
     "name": "stderr",
     "output_type": "stream",
     "text": [
      "/anaconda3/lib/python3.6/site-packages/sklearn/cross_decomposition/pls_.py:77: UserWarning: Maximum number of iterations reached\n",
      "  warnings.warn('Maximum number of iterations reached')\n"
     ]
    },
    {
     "name": "stdout",
     "output_type": "stream",
     "text": [
      "Verbs to pool5\n",
      "Forward:  [0.26223815921371235]\n",
      "Done with:  0\n",
      "1\n",
      "Verbs to pool5\n",
      "Forward:  [0.26223815921371235, 0.27094558459406004]\n",
      "Done with:  1\n",
      "2\n",
      "Verbs to pool5\n",
      "Forward:  [0.26223815921371235, 0.27094558459406004, 0.26604520329734316]\n",
      "Done with:  2\n"
     ]
    }
   ],
   "source": [
    "### PLS forward verbs\n",
    "\n",
    "r2_pls_verbs_forward = []\n",
    "#r2_pls2_verbs_reversed = []\n",
    "\n",
    "for i in range(3):\n",
    "    print(i)\n",
    "\n",
    "    pls2_verbs_forward = PLSRegression(n_components = 100)\n",
    "    pls2_verbs_forward.fit(X_train_verbs[train_idx[i]].toarray(), resnet_train[train_idx[i]])\n",
    "    r2_pls_verbs_forward.append(pls2_verbs_forward.score(X_train_verbs[test_idx[i]].toarray(), resnet_train[test_idx[i]]))\n",
    "    #pls2_verbs_reversed = PLSRegression(n_components = 100)\n",
    "    #pls2_verbs_reversed.fit(resnet_train[train_idx[i]], X_train_verbs[train_idx[i]].toarray())\n",
    "    #r2_pls2_verbs_reversed.append(pls2_verbs_reversed.score(resnet_train[test_idx[i]]), X_train_verbs[test_idx[i]])\n",
    "        \n",
    "    print(\"Verbs to pool5\")\n",
    "    print(\"Forward: \", r2_pls_verbs_forward)\n",
    "    \n",
    "    \n",
    "    print('Done with: ', i)\n",
    "    \n",
    "    "
   ]
  },
  {
   "cell_type": "code",
   "execution_count": 78,
   "metadata": {},
   "outputs": [
    {
     "name": "stdout",
     "output_type": "stream",
     "text": [
      "0\n",
      "(6666, 5924) (6666, 1000)\n"
     ]
    },
    {
     "name": "stderr",
     "output_type": "stream",
     "text": [
      "/anaconda3/lib/python3.6/site-packages/sklearn/cross_decomposition/pls_.py:77: UserWarning: Maximum number of iterations reached\n",
      "  warnings.warn('Maximum number of iterations reached')\n",
      "/anaconda3/lib/python3.6/site-packages/sklearn/cross_decomposition/pls_.py:49: RuntimeWarning: invalid value encountered in true_divide\n",
      "  x_weights = np.dot(X.T, y_score) / np.dot(y_score.T, y_score)\n",
      "/anaconda3/lib/python3.6/site-packages/sklearn/cross_decomposition/pls_.py:285: RuntimeWarning: invalid value encountered in less\n",
      "  if np.all(np.dot(Yk.T, Yk) < np.finfo(np.double).eps):\n"
     ]
    },
    {
     "ename": "KeyboardInterrupt",
     "evalue": "",
     "output_type": "error",
     "traceback": [
      "\u001b[0;31m---------------------------------------------------------------------------\u001b[0m",
      "\u001b[0;31mKeyboardInterrupt\u001b[0m                         Traceback (most recent call last)",
      "\u001b[0;32m<ipython-input-78-612ad9d538c9>\u001b[0m in \u001b[0;36m<module>\u001b[0;34m()\u001b[0m\n\u001b[1;32m     12\u001b[0m     \u001b[0mr2_pls_nouns_forward\u001b[0m\u001b[0;34m.\u001b[0m\u001b[0mappend\u001b[0m\u001b[0;34m(\u001b[0m\u001b[0mpls2_nouns_forward\u001b[0m\u001b[0;34m.\u001b[0m\u001b[0mscore\u001b[0m\u001b[0;34m(\u001b[0m\u001b[0mX_train_nouns\u001b[0m\u001b[0;34m[\u001b[0m\u001b[0mtest_idx\u001b[0m\u001b[0;34m[\u001b[0m\u001b[0mi\u001b[0m\u001b[0;34m]\u001b[0m\u001b[0;34m]\u001b[0m\u001b[0;34m.\u001b[0m\u001b[0mtoarray\u001b[0m\u001b[0;34m(\u001b[0m\u001b[0;34m)\u001b[0m\u001b[0;34m,\u001b[0m \u001b[0mresnet_fc1000_train\u001b[0m\u001b[0;34m[\u001b[0m\u001b[0mtest_idx\u001b[0m\u001b[0;34m[\u001b[0m\u001b[0mi\u001b[0m\u001b[0;34m]\u001b[0m\u001b[0;34m]\u001b[0m\u001b[0;34m)\u001b[0m\u001b[0;34m)\u001b[0m\u001b[0;34m\u001b[0m\u001b[0m\n\u001b[1;32m     13\u001b[0m     \u001b[0mpls2_nouns_reversed\u001b[0m \u001b[0;34m=\u001b[0m \u001b[0mPLSRegression\u001b[0m\u001b[0;34m(\u001b[0m\u001b[0mn_components\u001b[0m \u001b[0;34m=\u001b[0m \u001b[0;36m100\u001b[0m\u001b[0;34m)\u001b[0m\u001b[0;34m\u001b[0m\u001b[0m\n\u001b[0;32m---> 14\u001b[0;31m     \u001b[0mpls2_nouns_reversed\u001b[0m\u001b[0;34m.\u001b[0m\u001b[0mfit\u001b[0m\u001b[0;34m(\u001b[0m\u001b[0mresnet_fc1000_train\u001b[0m\u001b[0;34m[\u001b[0m\u001b[0mtrain_idx\u001b[0m\u001b[0;34m[\u001b[0m\u001b[0mi\u001b[0m\u001b[0;34m]\u001b[0m\u001b[0;34m]\u001b[0m\u001b[0;34m,\u001b[0m \u001b[0mX_train_nouns\u001b[0m\u001b[0;34m[\u001b[0m\u001b[0mtrain_idx\u001b[0m\u001b[0;34m[\u001b[0m\u001b[0mi\u001b[0m\u001b[0;34m]\u001b[0m\u001b[0;34m]\u001b[0m\u001b[0;34m.\u001b[0m\u001b[0mtoarray\u001b[0m\u001b[0;34m(\u001b[0m\u001b[0;34m)\u001b[0m\u001b[0;34m)\u001b[0m\u001b[0;34m\u001b[0m\u001b[0m\n\u001b[0m\u001b[1;32m     15\u001b[0m     \u001b[0mr2_pls2_nouns_reversed\u001b[0m\u001b[0;34m.\u001b[0m\u001b[0mappend\u001b[0m\u001b[0;34m(\u001b[0m\u001b[0mpls2_nouns_reversed\u001b[0m\u001b[0;34m.\u001b[0m\u001b[0mscore\u001b[0m\u001b[0;34m(\u001b[0m\u001b[0mresnet_fc1000_train\u001b[0m\u001b[0;34m[\u001b[0m\u001b[0mtest_idx\u001b[0m\u001b[0;34m[\u001b[0m\u001b[0mi\u001b[0m\u001b[0;34m]\u001b[0m\u001b[0;34m]\u001b[0m\u001b[0;34m,\u001b[0m \u001b[0mX_train_nouns\u001b[0m\u001b[0;34m[\u001b[0m\u001b[0mtest_idx\u001b[0m\u001b[0;34m[\u001b[0m\u001b[0mi\u001b[0m\u001b[0;34m]\u001b[0m\u001b[0;34m]\u001b[0m\u001b[0;34m.\u001b[0m\u001b[0mtoarray\u001b[0m\u001b[0;34m(\u001b[0m\u001b[0;34m)\u001b[0m\u001b[0;34m)\u001b[0m\u001b[0;34m)\u001b[0m\u001b[0;34m\u001b[0m\u001b[0m\n\u001b[1;32m     16\u001b[0m \u001b[0;34m\u001b[0m\u001b[0m\n",
      "\u001b[0;32m/anaconda3/lib/python3.6/site-packages/sklearn/cross_decomposition/pls_.py\u001b[0m in \u001b[0;36mfit\u001b[0;34m(self, X, Y)\u001b[0m\n\u001b[1;32m    283\u001b[0m         \u001b[0;31m# NIPALS algo: outer loop, over components\u001b[0m\u001b[0;34m\u001b[0m\u001b[0;34m\u001b[0m\u001b[0m\n\u001b[1;32m    284\u001b[0m         \u001b[0;32mfor\u001b[0m \u001b[0mk\u001b[0m \u001b[0;32min\u001b[0m \u001b[0mrange\u001b[0m\u001b[0;34m(\u001b[0m\u001b[0mself\u001b[0m\u001b[0;34m.\u001b[0m\u001b[0mn_components\u001b[0m\u001b[0;34m)\u001b[0m\u001b[0;34m:\u001b[0m\u001b[0;34m\u001b[0m\u001b[0m\n\u001b[0;32m--> 285\u001b[0;31m             \u001b[0;32mif\u001b[0m \u001b[0mnp\u001b[0m\u001b[0;34m.\u001b[0m\u001b[0mall\u001b[0m\u001b[0;34m(\u001b[0m\u001b[0mnp\u001b[0m\u001b[0;34m.\u001b[0m\u001b[0mdot\u001b[0m\u001b[0;34m(\u001b[0m\u001b[0mYk\u001b[0m\u001b[0;34m.\u001b[0m\u001b[0mT\u001b[0m\u001b[0;34m,\u001b[0m \u001b[0mYk\u001b[0m\u001b[0;34m)\u001b[0m \u001b[0;34m<\u001b[0m \u001b[0mnp\u001b[0m\u001b[0;34m.\u001b[0m\u001b[0mfinfo\u001b[0m\u001b[0;34m(\u001b[0m\u001b[0mnp\u001b[0m\u001b[0;34m.\u001b[0m\u001b[0mdouble\u001b[0m\u001b[0;34m)\u001b[0m\u001b[0;34m.\u001b[0m\u001b[0meps\u001b[0m\u001b[0;34m)\u001b[0m\u001b[0;34m:\u001b[0m\u001b[0;34m\u001b[0m\u001b[0m\n\u001b[0m\u001b[1;32m    286\u001b[0m                 \u001b[0;31m# Yk constant\u001b[0m\u001b[0;34m\u001b[0m\u001b[0;34m\u001b[0m\u001b[0m\n\u001b[1;32m    287\u001b[0m                 \u001b[0mwarnings\u001b[0m\u001b[0;34m.\u001b[0m\u001b[0mwarn\u001b[0m\u001b[0;34m(\u001b[0m\u001b[0;34m'Y residual constant at iteration %s'\u001b[0m \u001b[0;34m%\u001b[0m \u001b[0mk\u001b[0m\u001b[0;34m)\u001b[0m\u001b[0;34m\u001b[0m\u001b[0m\n",
      "\u001b[0;31mKeyboardInterrupt\u001b[0m: "
     ]
    }
   ],
   "source": [
    "### PLS forward all nouns\n",
    "\n",
    "r2_pls_nouns_forward = []\n",
    "r2_pls2_nouns_reversed = []\n",
    "\n",
    "for i in range(3):\n",
    "    print(i)\n",
    "    \n",
    "    pls2_nouns_forward = PLSRegression(n_components = 100)\n",
    "    pls2_nouns_forward.fit(X_train_nouns[train_idx[i]].toarray(), resnet_fc1000_train[train_idx[i]])\n",
    "    r2_pls_nouns_forward.append(pls2_nouns_forward.score(X_train_nouns[test_idx[i]].toarray(), resnet_fc1000_train[test_idx[i]]))\n",
    "    pls2_nouns_reversed = PLSRegression(n_components = 100)\n",
    "    pls2_nouns_reversed.fit(resnet_fc1000_train[train_idx[i]], X_train_nouns[train_idx[i]].toarray())\n",
    "    r2_pls2_nouns_reversed.append(pls2_nouns_reversed.score(resnet_fc1000_train[test_idx[i]], X_train_nouns[test_idx[i]].toarray()))\n",
    "        \n",
    "    print(\"Nouns to fc1000\")\n",
    "    print(\"Forward: \", r2_pls_nouns_forward)\n",
    "    print(\"Reversed: \", r2_pls2_nouns_reversed)\n",
    "    \n",
    "    \n",
    "    print('Done with: ', i)\n",
    "    \n",
    "    "
   ]
  },
  {
   "cell_type": "code",
   "execution_count": null,
   "metadata": {},
   "outputs": [],
   "source": []
  }
 ],
 "metadata": {
  "kernelspec": {
   "display_name": "Python 3",
   "language": "python",
   "name": "python3"
  },
  "language_info": {
   "codemirror_mode": {
    "name": "ipython",
    "version": 3
   },
   "file_extension": ".py",
   "mimetype": "text/x-python",
   "name": "python",
   "nbconvert_exporter": "python",
   "pygments_lexer": "ipython3",
   "version": "3.6.5"
  }
 },
 "nbformat": 4,
 "nbformat_minor": 2
}
