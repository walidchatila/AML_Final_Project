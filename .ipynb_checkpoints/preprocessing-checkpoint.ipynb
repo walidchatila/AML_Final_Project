{
 "cells": [
  {
   "cell_type": "code",
   "execution_count": null,
   "metadata": {},
   "outputs": [],
   "source": [
    "### Start\n",
    "\n",
    "import string\n",
    "nltk.download('stopwords')\n",
    "from nltk.corpus import stopwords\n",
    "stopwords.words('english')\n",
    "stop_words = set(stopwords.words('english'))\n",
    "yelp['sentence'] = list(map(lambda x:x.lower(), yelp['sentence']))\n",
    "punctuation = set(string.punctuation)\n",
    "yelp['sentence'] = list(map(lambda x:''.join(ch for ch in x if ch not in punctuation), yelp['sentence']))\n",
    "yelp['sentence'] = list(map(lambda x:' '.join(w for w in x.split(' ') if w not in stop_words), yelp['sentence']))\n",
    "nltk.download('wordnet')\n",
    "wnl = nltk.stem.WordNetLemmatizer()\n",
    "yelp['sentence'] = list(map(lambda x:' '.join(wnl.lemmatize(w) for w in x.split(' ')), yelp['sentence']))\n"
   ]
  }
 ],
 "metadata": {
  "kernelspec": {
   "display_name": "Python 3",
   "language": "python",
   "name": "python3"
  },
  "language_info": {
   "codemirror_mode": {
    "name": "ipython",
    "version": 3
   },
   "file_extension": ".py",
   "mimetype": "text/x-python",
   "name": "python",
   "nbconvert_exporter": "python",
   "pygments_lexer": "ipython3",
   "version": "3.6.5"
  }
 },
 "nbformat": 4,
 "nbformat_minor": 2
}
