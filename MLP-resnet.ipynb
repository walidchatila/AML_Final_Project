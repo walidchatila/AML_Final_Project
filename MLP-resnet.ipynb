{
 "cells": [
  {
   "cell_type": "code",
   "execution_count": 1,
   "metadata": {},
   "outputs": [],
   "source": [
    "from sklearn.model_selection import train_test_split\n",
    "import os\n",
    "import glob\n",
    "import re\n",
    "import numpy as np\n",
    "import sklearn.metrics.pairwise as mp\n",
    "import pandas as pd\n",
    "import scipy\n",
    "from scipy.spatial.distance import cdist\n",
    "import matplotlib.pyplot as plt\n",
    "from PIL import Image\n",
    "import matplotlib.pyplot as plt\n",
    "%matplotlib inline\n",
    "from sklearn.neural_network import MLPRegressor\n"
   ]
  },
  {
   "cell_type": "code",
   "execution_count": 4,
   "metadata": {},
   "outputs": [],
   "source": [
    "X_train = scipy.sparse.load_npz(\"data/processed_descriptions/train_descriptions_noLemma.npz\")\n",
    "X_test  = scipy.sparse.load_npz(\"data/processed_descriptions/test_descriptions_noLemma_binary.npz\")\n",
    "\n",
    "X_train_nouns = scipy.sparse.load_npz(\"data/processed_descriptions/train_descriptions_nouns_noLemma.npz\")\n",
    "X_test_nouns  = scipy.sparse.load_npz(\"data/processed_descriptions/test_descriptions_nouns_noLemma.npz\")"
   ]
  },
  {
   "cell_type": "code",
   "execution_count": 5,
   "metadata": {},
   "outputs": [],
   "source": [
    "Y_train = scipy.sparse.load_npz(\"data/processed_tags/train_tag_nocat_tfdif.npz\")\n",
    "Y_test  = scipy.sparse.load_npz(\"data/processed_tags/test_tag_nocat_tfdif.npz\")"
   ]
  },
  {
   "cell_type": "code",
   "execution_count": 6,
   "metadata": {},
   "outputs": [
    {
     "name": "stdout",
     "output_type": "stream",
     "text": [
      "(10000, 8339) (2000, 8339) (10000, 92) (2000, 92)\n"
     ]
    }
   ],
   "source": [
    "print(X_train.shape, X_test.shape, Y_train.shape, Y_test.shape)"
   ]
  },
  {
   "cell_type": "code",
   "execution_count": 8,
   "metadata": {},
   "outputs": [
    {
     "name": "stdout",
     "output_type": "stream",
     "text": [
      "(10000, 1000) (2000, 1000)\n",
      "(10000, 2048) (2000, 2048)\n"
     ]
    }
   ],
   "source": [
    "resnet_fc1000_train = pd.read_csv(\"data/features_train/features_resnet1000_train.csv\", header = None, index_col = 0)\n",
    "resnet_train = pd.read_csv(\"data/features_train/features_resnet1000intermediate_train.csv\", header = None, index_col = 0)\n",
    "\n",
    "resnet_fc1000_test = pd.read_csv(\"data/features_test/features_resnet1000_test.csv\", header = None, index_col = 0)\n",
    "resnet_test = pd.read_csv(\"data/features_test/features_resnet1000intermediate_test.csv\", header = None, index_col = 0)\n",
    "\n",
    "print(resnet_fc1000_train.shape, resnet_fc1000_test.shape)\n",
    "print(resnet_train.shape, resnet_test.shape)"
   ]
  },
  {
   "cell_type": "code",
   "execution_count": 9,
   "metadata": {},
   "outputs": [
    {
     "name": "stdout",
     "output_type": "stream",
     "text": [
      "Index(['images_train/5373.jpg', 'images_train/984.jpg',\n",
      "       'images_train/7127.jpg', 'images_train/5293.jpg',\n",
      "       'images_train/3688.jpg', 'images_train/3340.jpg',\n",
      "       'images_train/4787.jpg', 'images_train/5707.jpg',\n",
      "       'images_train/1262.jpg', 'images_train/8355.jpg'],\n",
      "      dtype='object', name=0)\n",
      "[5373, 984, 7127, 5293, 3688, 3340, 4787, 5707, 1262, 8355]\n",
      "Index(['images_test/152.jpg', 'images_test/901.jpg', 'images_test/1609.jpg',\n",
      "       'images_test/501.jpg', 'images_test/517.jpg', 'images_test/1516.jpg',\n",
      "       'images_test/1822.jpg', 'images_test/1993.jpg', 'images_test/405.jpg',\n",
      "       'images_test/1718.jpg'],\n",
      "      dtype='object', name=0)\n",
      "[152, 901, 1609, 501, 517, 1516, 1822, 1993, 405, 1718]\n",
      "Index(['images_train/5373.jpg', 'images_train/984.jpg',\n",
      "       'images_train/7127.jpg', 'images_train/9609.jpg',\n",
      "       'images_train/5293.jpg', 'images_train/3688.jpg',\n",
      "       'images_train/3340.jpg', 'images_train/4787.jpg',\n",
      "       'images_train/5707.jpg', 'images_train/1262.jpg'],\n",
      "      dtype='object', name=0)\n",
      "[5373, 984, 7127, 9609, 5293, 3688, 3340, 4787, 5707, 1262]\n",
      "Index(['images_test/152.jpg', 'images_test/901.jpg', 'images_test/1609.jpg',\n",
      "       'images_test/501.jpg', 'images_test/517.jpg', 'images_test/1822.jpg',\n",
      "       'images_test/1993.jpg', 'images_test/832.jpg', 'images_test/1462.jpg',\n",
      "       'images_test/1718.jpg'],\n",
      "      dtype='object', name=0)\n",
      "[152, 901, 1609, 501, 517, 1822, 1993, 832, 1462, 1718]\n"
     ]
    }
   ],
   "source": [
    "tr_idx = resnet_train.index\n",
    "print(tr_idx[0:10])\n",
    "new_idx1 = [int(re.findall(\"\\d+\", idx)[0]) for idx in tr_idx]\n",
    "print(new_idx1[0:10])\n",
    "resnet_train = np.array(pd.DataFrame(np.array(resnet_train), index = new_idx1).sort_index())\n",
    "\n",
    "te_idx = resnet_test.index\n",
    "print(te_idx[0:10])\n",
    "new_idx2 = [int(re.findall(\"\\d+\", idx)[0]) for idx in te_idx]\n",
    "print(new_idx2[0:10])\n",
    "resnet_test = np.array(pd.DataFrame(np.array(resnet_test), index = new_idx2).sort_index())\n",
    "\n",
    "fc_tr_idx = resnet_fc1000_train.index\n",
    "print(fc_tr_idx[0:10])\n",
    "fc_new_idx1 = [int(re.findall(\"\\d+\", idx)[0]) for idx in fc_tr_idx]\n",
    "print(fc_new_idx1[0:10])\n",
    "resnet_fc1000_train = np.array(pd.DataFrame(np.array(resnet_fc1000_train), index = fc_new_idx1).sort_index())\n",
    "\n",
    "fc_te_idx = resnet_fc1000_test.index\n",
    "print(fc_te_idx[0:10])\n",
    "fc_new_idx2 = [int(re.findall(\"\\d+\", idx)[0]) for idx in fc_te_idx]\n",
    "print(fc_new_idx2[0:10])\n",
    "resnet_fc1000_test = np.array(pd.DataFrame(np.array(resnet_fc1000_test), index = fc_new_idx2).sort_index())"
   ]
  },
  {
   "cell_type": "code",
   "execution_count": 10,
   "metadata": {},
   "outputs": [],
   "source": [
    "def map20(test, sim_matrix): \n",
    "    total_score = 0\n",
    "    for num, idx in enumerate(test):\n",
    "        score = 0\n",
    "        rank = np.argwhere(np.argsort(sim_matrix[num])[::-1] == num)[0][0]\n",
    "        if rank <20:\n",
    "            score = (20 + 1-(rank+1))/20\n",
    "        else:\n",
    "            score = 0 \n",
    "        total_score += score\n",
    "    return total_score"
   ]
  },
  {
   "cell_type": "code",
   "execution_count": 11,
   "metadata": {},
   "outputs": [],
   "source": [
    "### Cross Validation\n",
    "\n",
    "test_idx=[]\n",
    "train_idx=[]\n",
    "\n",
    "\n",
    "from sklearn.model_selection import train_test_split, KFold\n",
    "kf = KFold(n_splits=5, random_state=None) \n",
    "for tr_idx, te_idx in kf.split(X_train):\n",
    "    train_idx.append(tr_idx)\n",
    "    test_idx.append(te_idx)"
   ]
  },
  {
   "cell_type": "code",
   "execution_count": 17,
   "metadata": {},
   "outputs": [
    {
     "name": "stdout",
     "output_type": "stream",
     "text": [
      "0 FC1000\n"
     ]
    },
    {
     "name": "stderr",
     "output_type": "stream",
     "text": [
      "/anaconda3/lib/python3.6/site-packages/sklearn/neural_network/multilayer_perceptron.py:564: ConvergenceWarning: Stochastic Optimizer: Maximum iterations (200) reached and the optimization hasn't converged yet.\n",
      "  % self.max_iter, ConvergenceWarning)\n"
     ]
    },
    {
     "name": "stdout",
     "output_type": "stream",
     "text": [
      "0 Pool5\n",
      "FC1000\n",
      "[555.7499999999991]\n",
      "Pool5\n",
      "[806.3500000000006]\n",
      "Merge\n",
      "[725.3000000000008]\n",
      "1 FC1000\n",
      "1 Pool5\n",
      "FC1000\n",
      "[555.7499999999991, 607.3999999999999]\n",
      "Pool5\n",
      "[806.3500000000006, 841.3999999999997]\n",
      "Merge\n",
      "[725.3000000000008, 776.6000000000006]\n",
      "2 FC1000\n",
      "2 Pool5\n",
      "FC1000\n",
      "[555.7499999999991, 607.3999999999999, 593.1499999999992]\n",
      "Pool5\n",
      "[806.3500000000006, 841.3999999999997, 816.6000000000006]\n",
      "Merge\n",
      "[725.3000000000008, 776.6000000000006, 762.6000000000012]\n",
      "3 FC1000\n",
      "3 Pool5\n",
      "FC1000\n",
      "[555.7499999999991, 607.3999999999999, 593.1499999999992, 597.8499999999991]\n",
      "Pool5\n",
      "[806.3500000000006, 841.3999999999997, 816.6000000000006, 825.8]\n",
      "Merge\n",
      "[725.3000000000008, 776.6000000000006, 762.6000000000012, 773.9000000000003]\n",
      "4 FC1000\n",
      "4 Pool5\n",
      "FC1000\n",
      "[555.7499999999991, 607.3999999999999, 593.1499999999992, 597.8499999999991, 579.7]\n",
      "Pool5\n",
      "[806.3500000000006, 841.3999999999997, 816.6000000000006, 825.8, 811.100000000001]\n",
      "Merge\n",
      "[725.3000000000008, 776.6000000000006, 762.6000000000012, 773.9000000000003, 741.3000000000012]\n"
     ]
    }
   ],
   "source": [
    "### CV RUN for MLP Resnet\n",
    "R2scores_resfc1000 = []\n",
    "R2scores_respool5 = []\n",
    "map20_scores_resfc1000 = []\n",
    "map20_scores_respool5 = []\n",
    "map20_scores_res_merge = []\n",
    "for i in range(5):\n",
    "    print(i,\"FC1000\")\n",
    "    ### All desc to FC1000\n",
    "    mlp_fc1000 = MLPRegressor(activation = 'relu', \n",
    "                         hidden_layer_sizes = (500, 100, 500),\n",
    "                         max_iter = 200,\n",
    "                         learning_rate = \"adaptive\",\n",
    "                         warm_start = True)\n",
    "    mlp_fc1000.fit(X_train_nouns[train_idx[i]], resnet_fc1000_train[train_idx[i]])\n",
    "    R2scores_resfc1000.append(mlp_fc1000.score(X_train_nouns[test_idx[i]], resnet_fc1000_train[test_idx[i]]))\n",
    "    pred_fc1000 = mlp_fc1000.predict(X_train_nouns[test_idx[i]])\n",
    "    sim_matrix_fc1000 = mp.cosine_similarity(pred_fc1000, resnet_fc1000_train[test_idx[i]])\n",
    "    map20_scores_resfc1000.append(map20(test=test_idx[i], sim_matrix=sim_matrix_fc1000))\n",
    "    \n",
    "    print(i,\"Pool5\")\n",
    "    mlp_pool5 = MLPRegressor(activation = 'relu', \n",
    "                         hidden_layer_sizes = (500, 100, 500),\n",
    "                         max_iter = 200,\n",
    "                         learning_rate = \"adaptive\",\n",
    "                         warm_start = True)\n",
    "    mlp_pool5.fit(X_train[train_idx[i]], resnet_train[train_idx[i]])\n",
    "    R2scores_respool5.append(mlp_pool5.score(X_train[test_idx[i]], resnet_train[test_idx[i]]))\n",
    "    pred_pool5 = mlp_pool5.predict(X_train[test_idx[i]])\n",
    "    sim_matrix_pool5 = mp.cosine_similarity(pred_pool5, resnet_train[test_idx[i]])\n",
    "    map20_scores_respool5.append(map20(test=test_idx[i], sim_matrix=sim_matrix_pool5))\n",
    "    \n",
    "    sim_matrix_merge = (sim_matrix_fc1000 + sim_matrix_pool5)/2\n",
    "    map20_scores_res_merge.append(map20(test=test_idx[i], sim_matrix=sim_matrix_merge))\n",
    "\n",
    "    print(\"FC1000\")\n",
    "    print(map20_scores_resfc1000)\n",
    "    print(\"Pool5\")\n",
    "    print(map20_scores_respool5)\n",
    "    print(\"Merge\")\n",
    "    print(map20_scores_res_merge)"
   ]
  },
  {
   "cell_type": "code",
   "execution_count": 16,
   "metadata": {},
   "outputs": [
    {
     "data": {
      "text/plain": [
       "0.2784999999999998"
      ]
     },
     "execution_count": 16,
     "metadata": {},
     "output_type": "execute_result"
    }
   ],
   "source": [
    "pred_fc1000 = mlp_fc1000.predict(X_train_nouns[test_idx[i]])\n",
    "sim_matrix_fc1000 = mp.cosine_similarity(pred_fc1000, resnet_fc1000_train[test_idx[i]])\n",
    "map20(test=test_idx[i], sim_matrix=sim_matrix_fc1000)/2000"
   ]
  },
  {
   "cell_type": "code",
   "execution_count": 130,
   "metadata": {},
   "outputs": [
    {
     "name": "stdout",
     "output_type": "stream",
     "text": [
      "[0.46669839816606884, 0.4626778120583204, 0.5176460103244133, 0.5198413177228778, 0.5074063290335882]\n",
      "[0.3493250000000002, 0.34089999999999987, 0.385225, 0.38470000000000043, 0.37130000000000063]\n"
     ]
    }
   ],
   "source": [
    "print(scores)\n",
    "print(map20_scores)"
   ]
  },
  {
   "cell_type": "code",
   "execution_count": 143,
   "metadata": {},
   "outputs": [],
   "source": [
    "mlp_all = MLPRegressor(activation = 'relu', \n",
    "                         hidden_layer_sizes = (500, 92),\n",
    "                         max_iter = 200,\n",
    "                         learning_rate = \"adaptive\",\n",
    "                         warm_start = True)\n",
    "mlp_all.fit(X_train, Y_train.toarray())\n",
    "pred = mlp_all.predict(X_test)\n"
   ]
  },
  {
   "cell_type": "code",
   "execution_count": 146,
   "metadata": {},
   "outputs": [],
   "source": [
    "sim_matrix = mp.cosine_similarity(pred, Y_test)\n"
   ]
  },
  {
   "cell_type": "code",
   "execution_count": null,
   "metadata": {},
   "outputs": [
    {
     "name": "stderr",
     "output_type": "stream",
     "text": [
      "/anaconda3/lib/python3.6/site-packages/sklearn/neural_network/multilayer_perceptron.py:566: UserWarning: Training interrupted by user.\n",
      "  warnings.warn(\"Training interrupted by user.\")\n"
     ]
    },
    {
     "ename": "KeyboardInterrupt",
     "evalue": "",
     "output_type": "error",
     "traceback": [
      "\u001b[0;31m---------------------------------------------------------------------------\u001b[0m",
      "\u001b[0;31mKeyboardInterrupt\u001b[0m                         Traceback (most recent call last)",
      "\u001b[0;32m<ipython-input-115-dce748e840f7>\u001b[0m in \u001b[0;36m<module>\u001b[0;34m()\u001b[0m\n\u001b[1;32m      4\u001b[0m     \u001b[0mmlp\u001b[0m \u001b[0;34m=\u001b[0m \u001b[0mMLPRegressor\u001b[0m\u001b[0;34m(\u001b[0m\u001b[0mactivation\u001b[0m\u001b[0;34m=\u001b[0m\u001b[0;34m'relu'\u001b[0m\u001b[0;34m,\u001b[0m \u001b[0mhidden_layer_sizes\u001b[0m\u001b[0;34m=\u001b[0m\u001b[0mi\u001b[0m\u001b[0;34m,\u001b[0m \u001b[0mmax_iter\u001b[0m\u001b[0;34m=\u001b[0m\u001b[0;36m500\u001b[0m\u001b[0;34m,\u001b[0m\u001b[0mrandom_state\u001b[0m\u001b[0;34m=\u001b[0m\u001b[0;36m1\u001b[0m\u001b[0;34m,\u001b[0m\u001b[0mlearning_rate\u001b[0m\u001b[0;34m=\u001b[0m\u001b[0;34m\"adaptive\"\u001b[0m\u001b[0;34m)\u001b[0m\u001b[0;34m\u001b[0m\u001b[0m\n\u001b[1;32m      5\u001b[0m     \u001b[0mmlp\u001b[0m\u001b[0;34m.\u001b[0m\u001b[0mfit\u001b[0m\u001b[0;34m(\u001b[0m\u001b[0mX_train_scaled\u001b[0m\u001b[0;34m,\u001b[0m \u001b[0mY_train\u001b[0m\u001b[0;34m.\u001b[0m\u001b[0mtoarray\u001b[0m\u001b[0;34m(\u001b[0m\u001b[0;34m)\u001b[0m\u001b[0;34m)\u001b[0m\u001b[0;34m\u001b[0m\u001b[0m\n\u001b[0;32m----> 6\u001b[0;31m     \u001b[0mpred\u001b[0m \u001b[0;34m=\u001b[0m \u001b[0mmlp\u001b[0m\u001b[0;34m.\u001b[0m\u001b[0mpredict\u001b[0m\u001b[0;34m(\u001b[0m\u001b[0mX_test_scaled\u001b[0m\u001b[0;34m)\u001b[0m\u001b[0;34m\u001b[0m\u001b[0m\n\u001b[0m\u001b[1;32m      7\u001b[0m     \u001b[0mplt\u001b[0m\u001b[0;34m.\u001b[0m\u001b[0mplot\u001b[0m\u001b[0;34m(\u001b[0m\u001b[0mmlp\u001b[0m\u001b[0;34m.\u001b[0m\u001b[0mloss_curve_\u001b[0m\u001b[0;34m,\u001b[0m \u001b[0mlinewidth\u001b[0m\u001b[0;34m=\u001b[0m\u001b[0;36m1\u001b[0m\u001b[0;34m,\u001b[0m \u001b[0mlabel\u001b[0m\u001b[0;34m=\u001b[0m \u001b[0mstr\u001b[0m\u001b[0;34m(\u001b[0m\u001b[0mi\u001b[0m\u001b[0;34m)\u001b[0m \u001b[0;34m+\u001b[0m \u001b[0;34m'layers'\u001b[0m\u001b[0;34m)\u001b[0m\u001b[0;34m\u001b[0m\u001b[0m\n\u001b[1;32m      8\u001b[0m \u001b[0;34m\u001b[0m\u001b[0m\n",
      "\u001b[0;32m/anaconda3/lib/python3.6/site-packages/sklearn/neural_network/multilayer_perceptron.py\u001b[0m in \u001b[0;36mpredict\u001b[0;34m(self, X)\u001b[0m\n\u001b[1;32m   1295\u001b[0m         \"\"\"\n\u001b[1;32m   1296\u001b[0m         \u001b[0mcheck_is_fitted\u001b[0m\u001b[0;34m(\u001b[0m\u001b[0mself\u001b[0m\u001b[0;34m,\u001b[0m \u001b[0;34m\"coefs_\"\u001b[0m\u001b[0;34m)\u001b[0m\u001b[0;34m\u001b[0m\u001b[0m\n\u001b[0;32m-> 1297\u001b[0;31m         \u001b[0my_pred\u001b[0m \u001b[0;34m=\u001b[0m \u001b[0mself\u001b[0m\u001b[0;34m.\u001b[0m\u001b[0m_predict\u001b[0m\u001b[0;34m(\u001b[0m\u001b[0mX\u001b[0m\u001b[0;34m)\u001b[0m\u001b[0;34m\u001b[0m\u001b[0m\n\u001b[0m\u001b[1;32m   1298\u001b[0m         \u001b[0;32mif\u001b[0m \u001b[0my_pred\u001b[0m\u001b[0;34m.\u001b[0m\u001b[0mshape\u001b[0m\u001b[0;34m[\u001b[0m\u001b[0;36m1\u001b[0m\u001b[0;34m]\u001b[0m \u001b[0;34m==\u001b[0m \u001b[0;36m1\u001b[0m\u001b[0;34m:\u001b[0m\u001b[0;34m\u001b[0m\u001b[0m\n\u001b[1;32m   1299\u001b[0m             \u001b[0;32mreturn\u001b[0m \u001b[0my_pred\u001b[0m\u001b[0;34m.\u001b[0m\u001b[0mravel\u001b[0m\u001b[0;34m(\u001b[0m\u001b[0;34m)\u001b[0m\u001b[0;34m\u001b[0m\u001b[0m\n",
      "\u001b[0;32m/anaconda3/lib/python3.6/site-packages/sklearn/neural_network/multilayer_perceptron.py\u001b[0m in \u001b[0;36m_predict\u001b[0;34m(self, X)\u001b[0m\n\u001b[1;32m    676\u001b[0m                                          layer_units[i + 1])))\n\u001b[1;32m    677\u001b[0m         \u001b[0;31m# forward propagate\u001b[0m\u001b[0;34m\u001b[0m\u001b[0;34m\u001b[0m\u001b[0m\n\u001b[0;32m--> 678\u001b[0;31m         \u001b[0mself\u001b[0m\u001b[0;34m.\u001b[0m\u001b[0m_forward_pass\u001b[0m\u001b[0;34m(\u001b[0m\u001b[0mactivations\u001b[0m\u001b[0;34m)\u001b[0m\u001b[0;34m\u001b[0m\u001b[0m\n\u001b[0m\u001b[1;32m    679\u001b[0m         \u001b[0my_pred\u001b[0m \u001b[0;34m=\u001b[0m \u001b[0mactivations\u001b[0m\u001b[0;34m[\u001b[0m\u001b[0;34m-\u001b[0m\u001b[0;36m1\u001b[0m\u001b[0;34m]\u001b[0m\u001b[0;34m\u001b[0m\u001b[0m\n\u001b[1;32m    680\u001b[0m \u001b[0;34m\u001b[0m\u001b[0m\n",
      "\u001b[0;32m/anaconda3/lib/python3.6/site-packages/sklearn/neural_network/multilayer_perceptron.py\u001b[0m in \u001b[0;36m_forward_pass\u001b[0;34m(self, activations)\u001b[0m\n\u001b[1;32m    103\u001b[0m         \u001b[0;32mfor\u001b[0m \u001b[0mi\u001b[0m \u001b[0;32min\u001b[0m \u001b[0mrange\u001b[0m\u001b[0;34m(\u001b[0m\u001b[0mself\u001b[0m\u001b[0;34m.\u001b[0m\u001b[0mn_layers_\u001b[0m \u001b[0;34m-\u001b[0m \u001b[0;36m1\u001b[0m\u001b[0;34m)\u001b[0m\u001b[0;34m:\u001b[0m\u001b[0;34m\u001b[0m\u001b[0m\n\u001b[1;32m    104\u001b[0m             activations[i + 1] = safe_sparse_dot(activations[i],\n\u001b[0;32m--> 105\u001b[0;31m                                                  self.coefs_[i])\n\u001b[0m\u001b[1;32m    106\u001b[0m             \u001b[0mactivations\u001b[0m\u001b[0;34m[\u001b[0m\u001b[0mi\u001b[0m \u001b[0;34m+\u001b[0m \u001b[0;36m1\u001b[0m\u001b[0;34m]\u001b[0m \u001b[0;34m+=\u001b[0m \u001b[0mself\u001b[0m\u001b[0;34m.\u001b[0m\u001b[0mintercepts_\u001b[0m\u001b[0;34m[\u001b[0m\u001b[0mi\u001b[0m\u001b[0;34m]\u001b[0m\u001b[0;34m\u001b[0m\u001b[0m\n\u001b[1;32m    107\u001b[0m \u001b[0;34m\u001b[0m\u001b[0m\n",
      "\u001b[0;32m/anaconda3/lib/python3.6/site-packages/sklearn/utils/extmath.py\u001b[0m in \u001b[0;36msafe_sparse_dot\u001b[0;34m(a, b, dense_output)\u001b[0m\n\u001b[1;32m    138\u001b[0m         \u001b[0;32mreturn\u001b[0m \u001b[0mret\u001b[0m\u001b[0;34m\u001b[0m\u001b[0m\n\u001b[1;32m    139\u001b[0m     \u001b[0;32melse\u001b[0m\u001b[0;34m:\u001b[0m\u001b[0;34m\u001b[0m\u001b[0m\n\u001b[0;32m--> 140\u001b[0;31m         \u001b[0;32mreturn\u001b[0m \u001b[0mnp\u001b[0m\u001b[0;34m.\u001b[0m\u001b[0mdot\u001b[0m\u001b[0;34m(\u001b[0m\u001b[0ma\u001b[0m\u001b[0;34m,\u001b[0m \u001b[0mb\u001b[0m\u001b[0;34m)\u001b[0m\u001b[0;34m\u001b[0m\u001b[0m\n\u001b[0m\u001b[1;32m    141\u001b[0m \u001b[0;34m\u001b[0m\u001b[0m\n\u001b[1;32m    142\u001b[0m \u001b[0;34m\u001b[0m\u001b[0m\n",
      "\u001b[0;31mKeyboardInterrupt\u001b[0m: "
     ]
    }
   ],
   "source": [
    "layers = [10,25, 50, 100, 200]\n",
    "loss = []\n",
    "for i in layers:\n",
    "    mlp = MLPRegressor(activation='relu', hidden_layer_sizes=i, max_iter=500,random_state=1,learning_rate=\"adaptive\")\n",
    "    mlp.fit(X_train_scaled, Y_train.toarray())\n",
    "    pred = mlp.predict(X_test_scaled)\n",
    "    plt.plot(mlp.loss_curve_, linewidth=1, label= str(i) + 'layers')\n",
    "\n",
    "    #loss.append(mlp.loss_curve_)\n",
    "    #test = pred * Y_test.T\n",
    "    \n",
    "plt.ylabel('Loss')\n",
    "plt.xlabel('Iteration')\n",
    "plt.ylim((4e-3, 10.0e-2))\n",
    "plt.legend()\n",
    "plt.grid()\n",
    "plt.show()"
   ]
  },
  {
   "cell_type": "code",
   "execution_count": 32,
   "metadata": {},
   "outputs": [
    {
     "data": {
      "image/png": "[encoded data removed]",
      "text/plain": [
       "<Figure size 432x288 with 1 Axes>"
      ]
     },
     "metadata": {},
     "output_type": "display_data"
    }
   ],
   "source": [
    "\n",
    "plt.plot(range(1, 9), loss[0][-8:], linewidth=1, label='10 layers')\n",
    "plt.plot(range(1, 9), loss[1][-8:], linewidth=1, label='25 layers')\n",
    "plt.plot(range(1, 9), loss[2][-8:], linewidth=1, label='50 layers')\n",
    "plt.plot(range(1, 9), loss[3][-8:], linewidth=1, label='100 layers')\n",
    "plt.plot(range(1, 9), loss[4][-8:], linewidth=1, label='200 layers')\n",
    "\n",
    "plt.ylabel('Loss')\n",
    "plt.xlabel('Iteration')\n",
    "#plt.ylim((4e-3, 10.0e-2))\n",
    "plt.legend()\n",
    "plt.grid()\n",
    "plt.show()"
   ]
  },
  {
   "cell_type": "code",
   "execution_count": null,
   "metadata": {},
   "outputs": [],
   "source": []
  },
  {
   "cell_type": "code",
   "execution_count": 149,
   "metadata": {},
   "outputs": [],
   "source": [
    "if not os.path.isdir(\"output\"):\n",
    "    os.mkdir(\"output\")\n",
    "with open('output/description_tags_mlp_500_200.txt', 'w') as f:\n",
    "    for i in range(0, X_test.shape[0]):\n",
    "        row = \" \".join([str(img) + \".jpg\" for img in np.argsort(sim_matrix[i])[::-1][0:20]])\n",
    "        row = str(i) + \".txt,\" + row\n",
    "        f.write(\"%s\\n\" % row)"
   ]
  }
 ],
 "metadata": {
  "kernelspec": {
   "display_name": "Python 3",
   "language": "python",
   "name": "python3"
  },
  "language_info": {
   "codemirror_mode": {
    "name": "ipython",
    "version": 3
   },
   "file_extension": ".py",
   "mimetype": "text/x-python",
   "name": "python",
   "nbconvert_exporter": "python",
   "pygments_lexer": "ipython3",
   "version": "3.6.5"
  }
 },
 "nbformat": 4,
 "nbformat_minor": 2
}
